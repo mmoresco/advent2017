{
 "cells": [
  {
   "cell_type": "code",
   "execution_count": 47,
   "metadata": {
    "collapsed": false,
    "deletable": true,
    "editable": true
   },
   "outputs": [
    {
     "name": "stdout",
     "output_type": "stream",
     "text": [
      "The line_profiler extension is already loaded. To reload it, use:\n",
      "  %reload_ext line_profiler\n"
     ]
    }
   ],
   "source": [
    "from itertools import count, cycle, islice\n",
    "from collections import namedtuple, defaultdict, deque, Counter, defaultdict\n",
    "\n",
    "%load_ext line_profiler\n",
    "# usage: %lprun -f func main\n",
    "\n",
    "def Input(day):\n",
    "    \"Open this day's input file.\"\n",
    "    filename = 'input{}.txt'.format(day)\n",
    "    try:\n",
    "        return open(filename)\n",
    "    except FileNotFoundError:\n",
    "        print(\"No input file found for day\", day)\n",
    "        \n",
    "def consume(iterator, n):\n",
    "    \"Advance the iterator n-steps ahead. If n is none, consume entirely.\"\n",
    "    # Use functions that consume iterators at C speed.\n",
    "    if n is None:\n",
    "        # feed the entire iterator into a zero-length deque\n",
    "        collections.deque(iterator, maxlen=0)\n",
    "    else:\n",
    "        # advance to the empty slice starting at position n\n",
    "        next(islice(iterator, n, n), None)"
   ]
  },
  {
   "cell_type": "markdown",
   "metadata": {
    "deletable": true,
    "editable": true
   },
   "source": [
    "# [Day 1](http://adventofcode.com/2017/day/1): Inverse Captcha\n",
    "### Part one\n",
    "Find the sum of all digits that match the next digit in the list. The list is circular, so the digit after the last digit is the first digit in the list."
   ]
  },
  {
   "cell_type": "code",
   "execution_count": 2,
   "metadata": {
    "collapsed": false,
    "deletable": true,
    "editable": true
   },
   "outputs": [
    {
     "data": {
      "text/plain": [
       "1034"
      ]
     },
     "execution_count": 2,
     "metadata": {},
     "output_type": "execute_result"
    }
   ],
   "source": [
    "def parse(text):\n",
    "    \"Parse a string of numbers into a list of digits\"\n",
    "    return [int(n) for n in list(text.strip())]\n",
    "\n",
    "def captcha_n(digits, k):\n",
    "    sum = 0\n",
    "    \n",
    "    for i, n in enumerate(digits):\n",
    "        if n == digits[(i + k) % len(digits)]:\n",
    "            sum += n\n",
    "    \n",
    "    return sum\n",
    "\n",
    "def captcha(digits):\n",
    "    return captcha_n(digits, 1)\n",
    "\n",
    "assert parse(\"1234\") == [1, 2, 3, 4]\n",
    "assert captcha([1, 1, 2, 2]) == 3\n",
    "assert captcha([1, 1, 1, 1]) == 4\n",
    "assert captcha([1, 2, 3, 4]) == 0\n",
    "assert captcha([9, 1, 2, 1, 2, 1, 2, 9]) == 9\n",
    "\n",
    "captcha(parse(Input(1).read()))"
   ]
  },
  {
   "cell_type": "markdown",
   "metadata": {
    "deletable": true,
    "editable": true
   },
   "source": [
    "#### Part two\n",
    "Now, instead of considering the next digit, it wants you to consider the digit halfway around the circular list."
   ]
  },
  {
   "cell_type": "code",
   "execution_count": 3,
   "metadata": {
    "collapsed": false,
    "deletable": true,
    "editable": true
   },
   "outputs": [
    {
     "data": {
      "text/plain": [
       "1356"
      ]
     },
     "execution_count": 3,
     "metadata": {},
     "output_type": "execute_result"
    }
   ],
   "source": [
    "def captcha_halfway(digits):\n",
    "    assert len(digits) % 2 == 0\n",
    "    return captcha_n(digits, len(digits) // 2)\n",
    "\n",
    "assert captcha_halfway([1, 2, 1, 2]) == 6\n",
    "assert captcha_halfway([1, 2, 3, 4, 2, 5]) == 4\n",
    "assert captcha_halfway([1, 2, 3, 1, 2, 3]) == 12\n",
    "assert captcha_halfway([1, 2, 1, 3, 1, 4, 1, 5]) == 4\n",
    "\n",
    "captcha_halfway(parse(Input(1).read()))"
   ]
  },
  {
   "cell_type": "markdown",
   "metadata": {
    "deletable": true,
    "editable": true
   },
   "source": [
    "# [Day 2](http://adventofcode.com/2017/day/2): Corruption Checksum\n",
    "### Part one\n",
    "For each row, determine the difference between the largest value and the smallest value; the checksum is the sum of all of these differences."
   ]
  },
  {
   "cell_type": "code",
   "execution_count": 4,
   "metadata": {
    "collapsed": false,
    "deletable": true,
    "editable": true
   },
   "outputs": [
    {
     "data": {
      "text/plain": [
       "42299"
      ]
     },
     "execution_count": 4,
     "metadata": {},
     "output_type": "execute_result"
    }
   ],
   "source": [
    "def max_range(row):\n",
    "    low = float(\"inf\")\n",
    "    high = 0\n",
    "    \n",
    "    for i in row:\n",
    "        if i < low:\n",
    "            low = i\n",
    "        if i > high:\n",
    "            high = i\n",
    "    \n",
    "    return high - low\n",
    "\n",
    "def checksum(file, row_func):\n",
    "    sum = 0\n",
    "    for row in file:\n",
    "        sum += row_func(row)\n",
    "        \n",
    "    return sum\n",
    "\n",
    "def parse(text):\n",
    "    \"Parse lines of tab separated numbers into lists of integers\"\n",
    "    res = []\n",
    "    for line in text.strip().split(\"\\n\"):\n",
    "        res.append([int(n) for n in line.split(\"\\t\")])\n",
    "    return res\n",
    "\n",
    "assert parse(\"1236\\t741\\t557\\t1029\\t144\") == [[1236, 741, 557, 1029, 144]]\n",
    "test_input = [[5, 1, 9, 5], [7, 5, 3], [2, 4, 6, 8]]\n",
    "assert checksum(test_input, max_range) == 18\n",
    "\n",
    "checksum(parse(Input(2).read()), max_range)"
   ]
  },
  {
   "cell_type": "markdown",
   "metadata": {
    "deletable": true,
    "editable": true
   },
   "source": [
    "### Part two\n",
    "It sounds like the goal is to find the only two numbers in each row where one evenly divides the other - that is, where the result of the division operation is a whole number. They would like you to find those numbers on each line, divide them, and add up each line's result."
   ]
  },
  {
   "cell_type": "code",
   "execution_count": 5,
   "metadata": {
    "collapsed": false,
    "deletable": true,
    "editable": true
   },
   "outputs": [
    {
     "data": {
      "text/plain": [
       "277"
      ]
     },
     "execution_count": 5,
     "metadata": {},
     "output_type": "execute_result"
    }
   ],
   "source": [
    "def quotient(row):\n",
    "    row.sort()\n",
    "    for i, n in enumerate(row):\n",
    "        for m in row[:i:-1]:\n",
    "            if m % n == 0:\n",
    "                return m // n\n",
    "\n",
    "assert checksum([[5, 9, 2, 8]], quotient) == 4\n",
    "\n",
    "checksum(parse(Input(2).read()), quotient)"
   ]
  },
  {
   "cell_type": "markdown",
   "metadata": {
    "deletable": true,
    "editable": true
   },
   "source": [
    "# [Day 3](http://adventofcode.com/2017/day/3): Spiral Memory\n",
    "### Part one\n",
    "\n",
    "You come across an experimental new kind of memory stored on an infinite two-dimensional grid.\n",
    "\n",
    "Each square on the grid is allocated in a spiral pattern starting at a location marked 1 and then counting up while spiraling outward. For example, the first few squares are allocated like this:\n",
    "\n",
    "```\n",
    "17  16  15  14  13\n",
    "18   5   4   3  12\n",
    "19   6   1   2  11\n",
    "20   7   8   9  10\n",
    "21  22  23---> ...\n",
    "```\n",
    "While this is very space-efficient (no squares are skipped), requested data must be carried back to square 1 (the location of the only access port for this memory system) by programs that can only move up, down, left, or right. They always take the shortest path: the Manhattan Distance between the location of the data and square 1.\n",
    "\n",
    "For example:\n",
    "\n",
    "Data from square 1 is carried 0 steps, since it's at the access port.\n",
    "Data from square 12 is carried 3 steps, such as: down, left, left.\n",
    "Data from square 23 is carried only 2 steps: up twice.\n",
    "Data from square 1024 must be carried 31 steps.\n",
    "How many steps are required to carry the data from the square identified in your puzzle input all the way to the access port?\n",
    "\n",
    "---\n",
    "\n",
    "So, I could either build out the entire spiral and walk it to find the result, _or_ I could just do some math. We could find the corner nearest to our destination, and easily compute how many steps away that is from the center. It's then easy to see how many steps the corner is from our destination. In other words, \n",
    "``` \n",
    "distance(center, destination) == distance(center, nearest_corner) - distance(nearest_corner, destination)\n",
    "```\n",
    "Math sounds faster. "
   ]
  },
  {
   "cell_type": "code",
   "execution_count": 6,
   "metadata": {
    "collapsed": false,
    "deletable": true,
    "editable": true
   },
   "outputs": [
    {
     "name": "stdout",
     "output_type": "stream",
     "text": [
      "438\n"
     ]
    }
   ],
   "source": [
    "def center_distance(n):\n",
    "    \"Given a number, return its distance from the center of the spiral map\"\n",
    "    box_height = 1\n",
    "    x = 0\n",
    "    \n",
    "    # Find box height\n",
    "    while x < n:\n",
    "        box_height += 2\n",
    "        x = box_height * box_height\n",
    "    \n",
    "    # Find nearest corner\n",
    "    corner = x\n",
    "    while corner > n:\n",
    "        corner -= box_height - 1\n",
    "    \n",
    "    if n - corner > corner + (box_height - 1) - n:\n",
    "        corner = corner + (box_height - 1)\n",
    "    \n",
    "    # Distance from center to nearest corner - distance from nearest corner to point\n",
    "    diag = (box_height // 2) * 2\n",
    "    print(diag - abs(corner - n))\n",
    "\n",
    "center_distance(265149)\n"
   ]
  },
  {
   "cell_type": "markdown",
   "metadata": {
    "deletable": true,
    "editable": true
   },
   "source": [
    "### Part 2\n",
    "As a stress test on the system, the programs here clear the grid and then store the value 1 in square 1. Then, in the same allocation order as shown above, they store the sum of the values in all adjacent squares, including diagonals.\n",
    "\n",
    "So, the first few squares' values are chosen as follows:\n",
    "\n",
    "Square 1 starts with the value 1.\n",
    "Square 2 has only one adjacent filled square (with value 1), so it also stores 1.\n",
    "Square 3 has both of the above squares as neighbors and stores the sum of their values, 2.\n",
    "Square 4 has all three of the aforementioned squares as neighbors and stores the sum of their values, 4.\n",
    "Square 5 only has the first and fourth squares as neighbors, so it gets the value 5.\n",
    "Once a square is written, its value does not change. Therefore, the first few squares would receive the following values:\n",
    "\n",
    "```\n",
    "147  142  133  122   59\n",
    "304    5    4    2   57\n",
    "330   10    1    1   54\n",
    "351   11   23   25   26\n",
    "362  747  806--->   ...\n",
    "```\n",
    "What is the first value written that is larger than your puzzle input?\n",
    "\n",
    "---\n",
    "\n",
    "Whoops, should have built the spiral."
   ]
  },
  {
   "cell_type": "code",
   "execution_count": 7,
   "metadata": {
    "collapsed": false,
    "deletable": true,
    "editable": true
   },
   "outputs": [
    {
     "data": {
      "text/plain": [
       "266330"
      ]
     },
     "execution_count": 7,
     "metadata": {},
     "output_type": "execute_result"
    }
   ],
   "source": [
    "class SpiralLocation:\n",
    "    def __init__(self):\n",
    "        self.x = 0\n",
    "        self.y = 0\n",
    "        self.value = 1\n",
    "\n",
    "def get_neighbors(x, y):\n",
    "    return ((x+1, y), (x-1, y), (x, y+1), (x, y-1),\n",
    "            (x+1, y+1), (x-1, y-1), (x+1, y-1), (x-1, y+1))\n",
    "        \n",
    "def spiral(end, cell_func):\n",
    "    \"Build a spiraled map from 1..end, setting the value at each cell with cell_func\"\n",
    "    loc = SpiralLocation()\n",
    "    width = 1   \n",
    "    spiral = {(loc.x, loc.y): loc.value}\n",
    "\n",
    "    down = lambda x: x - 1\n",
    "    up = lambda x: x + 1\n",
    "    \n",
    "    def spiral_side(axis, direction):\n",
    "        corner = max_coord if direction == up else -max_coord\n",
    "        current = getattr(loc, axis)\n",
    "\n",
    "        while current != corner:\n",
    "            setattr(loc, axis, direction(current))\n",
    "            loc.value = cell_func(loc, spiral)\n",
    "            spiral[(loc.x, loc.y)] = loc.value\n",
    "            if loc.value >= end:\n",
    "                return True\n",
    "            current = getattr(loc, axis)\n",
    "        return False\n",
    "        \n",
    "    while loc.value < end:\n",
    "        width += 2\n",
    "        max_coord = width // 2\n",
    "        \n",
    "        if spiral_side(\"x\", up):\n",
    "            return spiral\n",
    "        if spiral_side(\"y\", up):\n",
    "            return spiral\n",
    "        if spiral_side(\"x\", down):\n",
    "            return spiral\n",
    "        if spiral_side(\"y\", down):\n",
    "            return spiral\n",
    "        if spiral_side(\"x\", up):\n",
    "            return spiral\n",
    "            \n",
    "    return spiral\n",
    "\n",
    "def neighbor_sum(loc, spiral):\n",
    "    res = 0\n",
    "    neighbor_coords = get_neighbors(loc.x, loc.y)\n",
    "    for n in neighbor_coords:\n",
    "        value = spiral.get(n)\n",
    "        if value:\n",
    "            res += value\n",
    "\n",
    "    return res\n",
    " \n",
    "res = spiral(25, lambda loc, spiral: loc.value + 1)\n",
    "assert res[(0, 2)] == 15\n",
    "assert res[(0, 0)] == 1\n",
    "assert res[(2, -2)] == 25\n",
    "assert res[(-1, 0)] == 6\n",
    "\n",
    "test_spiral = {(0, 1): 4, (-1, 1): 5, (0, 0): 1, (-1, 0): 6, (-1, -1): 7, (0, -1): 8, (1, 0): 2, (1, -1): 9, (1, 1): 3}\n",
    "test_loc = SpiralLocation()\n",
    "test_loc.x = -1\n",
    "test_loc.y = 0\n",
    "assert neighbor_sum(test_loc, test_spiral) == 25\n",
    "\n",
    "neighbor_spiral = spiral(750, neighbor_sum)\n",
    "assert sorted(list(neighbor_spiral.values()))[-1] == 806\n",
    "\n",
    "neighbor_spiral = spiral(265149, neighbor_sum)\n",
    "sorted(list(neighbor_spiral.values()))[-1]"
   ]
  },
  {
   "cell_type": "markdown",
   "metadata": {
    "collapsed": false,
    "deletable": true,
    "editable": true
   },
   "source": [
    "# [Day 4](http://adventofcode.com/2017/day/4): High-Entropy Passphrases\n",
    "\n",
    "### Part one\n",
    "A new system policy has been put in place that requires all accounts to use a passphrase instead of simply a password. A passphrase consists of a series of words (lowercase letters) separated by spaces.\n",
    "\n",
    "To ensure security, a valid passphrase must contain no duplicate words.\n",
    "\n",
    "For example:\n",
    "```\n",
    "aa bb cc dd ee is valid.\n",
    "aa bb cc dd aa is not valid - the word aa appears more than once.\n",
    "aa bb cc dd aaa is valid - aa and aaa count as different words.\n",
    "```\n",
    "The system's full passphrase list is available as your puzzle input. How many passphrases are valid?"
   ]
  },
  {
   "cell_type": "code",
   "execution_count": 8,
   "metadata": {
    "collapsed": false,
    "deletable": true,
    "editable": true
   },
   "outputs": [
    {
     "data": {
      "text/plain": [
       "383"
      ]
     },
     "execution_count": 8,
     "metadata": {},
     "output_type": "execute_result"
    }
   ],
   "source": [
    "def no_dupes(words):\n",
    "    return len(words) - len(set(words)) == 0\n",
    "\n",
    "def parse_words(text):\n",
    "    return text.split(\" \")\n",
    "\n",
    "def valid_passphrase_count(lines, filter_func):\n",
    "    parsed_lines = map(parse_words, lines)\n",
    "    return len(list(filter(filter_func, parsed_lines)))\n",
    "\n",
    "\n",
    "assert no_dupes([\"aa\", \"bb\", \"cc\", \"dd\", \"ee\"]) == True\n",
    "assert no_dupes([\"aa\", \"bb\", \"cc\", \"dd\", \"aa\"]) == False\n",
    "assert no_dupes([\"aa\", \"bb\", \"cc\", \"dd\", \"aaa\"]) == True\n",
    "assert parse_words(\"aa bb cc\") == [\"aa\", \"bb\", \"cc\"]\n",
    "\n",
    "valid_passphrase_count(Input(4).read().splitlines(), no_dupes)"
   ]
  },
  {
   "cell_type": "markdown",
   "metadata": {
    "deletable": true,
    "editable": true
   },
   "source": [
    "### Part two\n",
    "For added security, yet another system policy has been put in place. Now, a valid passphrase must contain no two words that are anagrams of each other - that is, a passphrase is invalid if any word's letters can be rearranged to form any other word in the passphrase.\n",
    "\n",
    "For example:\n",
    "```\n",
    "abcde fghij is a valid passphrase.\n",
    "abcde xyz ecdab is not valid - the letters from the third word can be rearranged to form the first word.\n",
    "a ab abc abd abf abj is a valid passphrase, because all letters need to be used when forming another word.\n",
    "iiii oiii ooii oooi oooo is valid.\n",
    "oiii ioii iioi iiio is not valid - any of these words can be rearranged to form any other word.\n",
    "```\n",
    "Under this new system policy, how many passphrases are valid?"
   ]
  },
  {
   "cell_type": "code",
   "execution_count": 9,
   "metadata": {
    "collapsed": false,
    "deletable": true,
    "editable": true
   },
   "outputs": [
    {
     "data": {
      "text/plain": [
       "265"
      ]
     },
     "execution_count": 9,
     "metadata": {},
     "output_type": "execute_result"
    }
   ],
   "source": [
    "def no_anagrams(words):\n",
    "    sorted_words = [''.join(s) for s in list(map(sorted, words))]\n",
    "    return no_dupes(sorted_words)\n",
    "\n",
    "assert no_anagrams([\"cat\", \"act\"]) == False\n",
    "valid_passphrase_count(Input(4).read().splitlines(), no_anagrams)"
   ]
  },
  {
   "cell_type": "markdown",
   "metadata": {
    "deletable": true,
    "editable": true
   },
   "source": [
    "# [Day 5](http://adventofcode.com/2017/day/5): A Maze of Twisty Trampolines, All Alike\n",
    "\n",
    "### Part one\n",
    "An urgent interrupt arrives from the CPU: it's trapped in a maze of jump instructions, and it would like assistance from any programs with spare cycles to help find the exit.\n",
    "\n",
    "The message includes a list of the offsets for each jump. Jumps are relative: -1 moves to the previous instruction, and 2 skips the next one. Start at the first instruction in the list. The goal is to follow the jumps until one leads outside the list.\n",
    "\n",
    "In addition, these instructions are a little strange; after each jump, the offset of that instruction increases by 1. So, if you come across an offset of 3, you would move three instructions forward, but change it to a 4 for the next time it is encountered.\n",
    "\n",
    "For example, consider the following list of jump offsets:\n",
    "\n",
    "```\n",
    "0\n",
    "3\n",
    "0\n",
    "1\n",
    "-3\n",
    "```\n",
    "Positive jumps (\"forward\") move downward; negative jumps move upward. For legibility in this example, these offset values will be written all on one line, with the current instruction marked in parentheses. The following steps would be taken before an exit is found:\n",
    "\n",
    "```\n",
    "(0) 3  0  1  -3  - before we have taken any steps.\n",
    "(1) 3  0  1  -3  - jump with offset 0 (that is, don't jump at all). Fortunately, the instruction is then incremented to 1.\n",
    " 2 (3) 0  1  -3  - step forward because of the instruction we just modified. The first instruction is incremented again, now to 2.\n",
    " 2  4  0  1 (-3) - jump all the way to the end; leave a 4 behind.\n",
    " 2 (4) 0  1  -2  - go back to where we just were; increment -3 to -2.\n",
    " 2  5  0  1  -2  - jump 4 steps forward, escaping the maze.\n",
    " ```\n",
    "In this example, the exit is reached in 5 steps.\n",
    "\n",
    "How many steps does it take to reach the exit?"
   ]
  },
  {
   "cell_type": "code",
   "execution_count": 10,
   "metadata": {
    "collapsed": false,
    "deletable": true,
    "editable": true
   },
   "outputs": [
    {
     "data": {
      "text/plain": [
       "351282"
      ]
     },
     "execution_count": 10,
     "metadata": {},
     "output_type": "execute_result"
    }
   ],
   "source": [
    "part_one = lambda x: x + 1\n",
    "\n",
    "def trampoline(jumps, rule):\n",
    "    loc = 0\n",
    "    jump_count = 0\n",
    "    while True:\n",
    "        # index of next hop\n",
    "        move = loc + jumps[loc]\n",
    "        if move < 0 or move >= len(jumps):\n",
    "            return jump_count + 1\n",
    "        jumps[loc] = rule(jumps[loc])\n",
    "        jump_count += 1\n",
    "        loc = move\n",
    "\n",
    "assert trampoline([0, 3, 0, 1, -3], part_one) == 5\n",
    "trampoline([int(n) for n in Input(5).readlines()], part_one)"
   ]
  },
  {
   "cell_type": "markdown",
   "metadata": {
    "deletable": true,
    "editable": true
   },
   "source": [
    "Now, the jumps are even stranger: after each jump, if the offset was three or more, instead decrease it by 1. Otherwise, increase it by 1 as before.\n",
    "\n",
    "Using this rule with the above example, the process now takes 10 steps, and the offset values after finding the exit are left as 2 3 2 3 -1.\n",
    "\n",
    "How many steps does it now take to reach the exit?"
   ]
  },
  {
   "cell_type": "code",
   "execution_count": 11,
   "metadata": {
    "collapsed": false,
    "deletable": true,
    "editable": true
   },
   "outputs": [
    {
     "data": {
      "text/plain": [
       "24568703"
      ]
     },
     "execution_count": 11,
     "metadata": {},
     "output_type": "execute_result"
    }
   ],
   "source": [
    "part_two = lambda x: x - 1 if x > 2 else x + 1\n",
    "assert trampoline([0, 3, 0, 1, -3], part_two) == 10\n",
    "trampoline([int(n) for n in Input(5).readlines()], part_two)"
   ]
  },
  {
   "cell_type": "markdown",
   "metadata": {
    "deletable": true,
    "editable": true
   },
   "source": [
    "# [Day 6](http://adventofcode.com/2017/day/6): Memory Reallocation\n",
    "\n",
    "### Part one\n",
    "\n",
    "A debugger program here is having an issue: it is trying to repair a memory reallocation routine, but it keeps getting stuck in an infinite loop.\n",
    "\n",
    "In this area, there are sixteen memory banks; each memory bank can hold any number of blocks. The goal of the reallocation routine is to balance the blocks between the memory banks.\n",
    "\n",
    "The reallocation routine operates in cycles. In each cycle, it finds the memory bank with the most blocks (ties won by the lowest-numbered memory bank) and redistributes those blocks among the banks. To do this, it removes all of the blocks from the selected bank, then moves to the next (by index) memory bank and inserts one of the blocks. It continues doing this until it runs out of blocks; if it reaches the last memory bank, it wraps around to the first one.\n",
    "\n",
    "The debugger would like to know how many redistributions can be done before a blocks-in-banks configuration is produced that has been seen before.\n",
    "\n",
    "For example, imagine a scenario with only four memory banks:\n",
    "\n",
    "- The banks start with 0, 2, 7, and 0 blocks. \n",
    "- The third bank has the most blocks, so it is chosen for redistribution.\n",
    "- Starting with the next bank (the fourth bank) and then continuing to the first bank, the second bank, and so on, the 7 blocks are spread out over the memory banks. The fourth, first, and second banks get two blocks each, and the third bank gets one back. The final result looks like this: 2 4 1 2.\n",
    "- Next, the second bank is chosen because it contains the most blocks (four). Because there are four memory banks, each gets one block. The result is: 3 1 2 3.\n",
    "- Now, there is a tie between the first and fourth memory banks, both of which have three blocks. The first bank wins the tie, and its three blocks are distributed evenly over the other three banks, leaving it with none: 0 2 3 4.\n",
    "- The fourth bank is chosen, and its four blocks are distributed such that each of the four banks receives one: 1 3 4 1.\n",
    " -The third bank is chosen, and the same thing happens: 2 4 1 2.\n",
    " -At this point, we've reached a state we've seen before: 2 4 1 2 was already seen. The infinite loop is detected after the fifth block redistribution cycle, and so the answer in this example is 5.\n",
    "\n",
    "Given the initial block counts in your puzzle input, how many redistribution cycles must be completed before a configuration is produced that has been seen before?"
   ]
  },
  {
   "cell_type": "code",
   "execution_count": 12,
   "metadata": {
    "collapsed": false,
    "deletable": true,
    "editable": true
   },
   "outputs": [
    {
     "data": {
      "text/plain": [
       "7864"
      ]
     },
     "execution_count": 12,
     "metadata": {},
     "output_type": "execute_result"
    }
   ],
   "source": [
    "INPUT = \"0    5    10    0    11    14    13    4    11    8    8    7    1    4    12    11\"\n",
    "\n",
    "def redistribute(banks):\n",
    "    block_count = max(banks)\n",
    "    loc = banks.index(block_count)\n",
    "    banks[loc] = 0\n",
    "    \n",
    "    while block_count > 0:\n",
    "        loc = (loc + 1) % len(banks)\n",
    "        banks[loc] += 1\n",
    "        block_count -= 1\n",
    "\n",
    "b = [0, 2, 7, 0]\n",
    "redistribute(b)\n",
    "assert b == [2, 4, 1, 2]\n",
    "\n",
    "def find_loop(banks):\n",
    "    seen_configs = set()\n",
    "    cycles = 0\n",
    "    \n",
    "    while True:\n",
    "        config = \".\".join([str(n) for n in banks])\n",
    "        if config in seen_configs:\n",
    "            return cycles\n",
    "        seen_configs.add(config)\n",
    "        redistribute(banks)\n",
    "        cycles += 1\n",
    "    \n",
    "assert find_loop([0, 2, 7, 0]) == 5\n",
    "\n",
    "find_loop([int(n) for n in INPUT.split(\"    \")])"
   ]
  },
  {
   "cell_type": "markdown",
   "metadata": {
    "deletable": true,
    "editable": true
   },
   "source": [
    "### Part two\n",
    "\n",
    "Out of curiosity, the debugger would also like to know the size of the loop: starting from a state that has already been seen, how many block redistribution cycles must be performed before that same state is seen again?\n",
    "\n",
    "In the example above, 2 4 1 2 is seen again after four cycles, and so the answer in that example would be 4.\n",
    "\n",
    "How many cycles are in the infinite loop that arises from the configuration in your puzzle input?"
   ]
  },
  {
   "cell_type": "code",
   "execution_count": 13,
   "metadata": {
    "collapsed": false,
    "deletable": true,
    "editable": true
   },
   "outputs": [
    {
     "data": {
      "text/plain": [
       "1695"
      ]
     },
     "execution_count": 13,
     "metadata": {},
     "output_type": "execute_result"
    }
   ],
   "source": [
    "def find_loop_size(banks):\n",
    "    seen_configs = {}\n",
    "    cycles = 0\n",
    "    \n",
    "    while True:\n",
    "        config = \".\".join([str(n) for n in banks])\n",
    "        if config in seen_configs:\n",
    "            return cycles - seen_configs[config]\n",
    "        seen_configs[config] = cycles\n",
    "        redistribute(banks)\n",
    "        cycles += 1\n",
    "\n",
    "assert find_loop_size([0, 2, 7, 0]) == 4\n",
    "find_loop_size([int(n) for n in INPUT.split(\"    \")])"
   ]
  },
  {
   "cell_type": "markdown",
   "metadata": {
    "deletable": true,
    "editable": true
   },
   "source": [
    "# [Day 7](http://adventofcode.com/2017/day/7): Recursive Circus\n",
    "\n",
    "### Part one"
   ]
  },
  {
   "cell_type": "code",
   "execution_count": 14,
   "metadata": {
    "collapsed": false,
    "deletable": true,
    "editable": true
   },
   "outputs": [
    {
     "data": {
      "text/plain": [
       "'vmpywg'"
      ]
     },
     "execution_count": 14,
     "metadata": {},
     "output_type": "execute_result"
    }
   ],
   "source": [
    "test_input = \"\"\"pbga (66)\n",
    "xhth (57)\n",
    "ebii (61)\n",
    "havc (66)\n",
    "ktlj (57)\n",
    "fwft (72) -> ktlj, cntj, xhth\n",
    "qoyq (66)\n",
    "padx (45) -> pbga, havc, qoyq\n",
    "tknk (41) -> ugml, padx, fwft\n",
    "jptl (61)\n",
    "ugml (68) -> gyxo, ebii, jptl\n",
    "gyxo (61)\n",
    "cntj (57)\"\"\"\n",
    "\n",
    "class Disc:\n",
    "    def __init__(self, name, weight, children):\n",
    "        self.name = name\n",
    "        self.weight = weight\n",
    "        self.children = children\n",
    "        self.original_weight = weight\n",
    "\n",
    "def parse_disc(text):\n",
    "    parts = text.strip().split(\" \")\n",
    "    name, weight, *_ = parts\n",
    "    weight = int(weight[1:-1])\n",
    "    children = [child.strip(',') for child in parts[3:]]\n",
    "    return Disc(name, weight, children)\n",
    "\n",
    "test_disc = parse_disc(test_input.split(\"\\n\")[7])\n",
    "assert test_disc.name == 'padx'\n",
    "assert test_disc.weight == 45\n",
    "assert test_disc.children == ['pbga', 'havc', 'qoyq']\n",
    "\n",
    "def find_root(discs):\n",
    "    disc_names = {disc.name for disc in discs}\n",
    "    children = {child for disc in discs for child in disc.children}\n",
    "    return disc_names.difference(children).pop()\n",
    "    \n",
    "test_discs = [parse_disc(t) for t in test_input.split(\"\\n\")]\n",
    "assert find_root(test_discs) == 'tknk'\n",
    "\n",
    "discs = [parse_disc(t) for t in Input(7).readlines()]\n",
    "find_root(discs)"
   ]
  },
  {
   "cell_type": "markdown",
   "metadata": {
    "deletable": true,
    "editable": true
   },
   "source": [
    "### Part two"
   ]
  },
  {
   "cell_type": "code",
   "execution_count": 15,
   "metadata": {
    "collapsed": false,
    "deletable": true,
    "editable": true
   },
   "outputs": [
    {
     "name": "stdout",
     "output_type": "stream",
     "text": [
      "1674\n"
     ]
    }
   ],
   "source": [
    "def build_tree(root, discs):\n",
    "    root.children = [discs[name] for name in root.children]\n",
    "    for child in root.children:\n",
    "        build_tree(child, discs)\n",
    "\n",
    "def parse_discs(text):\n",
    "    discs = [parse_disc(t) for t in text.split(\"\\n\")]\n",
    "    root = find_root(discs)\n",
    "    disc_map = {disc.name: disc for disc in discs}\n",
    "    build_tree(disc_map[root], disc_map)\n",
    "    return disc_map[root]\n",
    "\n",
    "def build_weights(root, path=[]):\n",
    "    path.append(root)\n",
    "    for child in root.children:\n",
    "        for node in path:\n",
    "            node.weight += child.weight\n",
    "        build_weights(child)\n",
    "    path.pop()\n",
    "        \n",
    "root = parse_discs(test_input)\n",
    "build_weights(root)\n",
    "assert root.weight == 778\n",
    "assert root.children[0].weight == 251\n",
    "assert root.children[1].weight == 243\n",
    "assert root.children[0].children[0].weight == 61    \n",
    "    \n",
    "def correct_wrong(weighted_root):\n",
    "    weights = {}\n",
    "    for child in weighted_root.children:\n",
    "        if weights.get(child.weight):\n",
    "            weights[child.weight].append(child)\n",
    "        else:\n",
    "            weights[child.weight] = [child]\n",
    "\n",
    "    outlier = None\n",
    "    for groups in weights.values():\n",
    "        if len(groups) == 1:\n",
    "            outlier = groups[0]\n",
    "        else:\n",
    "            matching = groups[0]\n",
    "            \n",
    "    if len(set(c.weight for c in outlier.children)) == 1:\n",
    "        return outlier.original_weight - (outlier.weight - matching.weight)\n",
    "    else:\n",
    "        return correct_wrong(outlier)\n",
    "\n",
    "assert correct_wrong(root) == 60\n",
    "\n",
    "root = parse_discs(Input(7).read().strip())\n",
    "build_weights(root)\n",
    "print(correct_wrong(root))"
   ]
  },
  {
   "cell_type": "markdown",
   "metadata": {
    "collapsed": true,
    "deletable": true,
    "editable": true
   },
   "source": [
    "# [Day 8](http://adventofcode.com/2017/day/8): I Heard You Like Registers\n",
    "\n",
    "Using Python for this feels like cheating..."
   ]
  },
  {
   "cell_type": "code",
   "execution_count": 16,
   "metadata": {
    "collapsed": false,
    "deletable": true,
    "editable": true
   },
   "outputs": [
    {
     "data": {
      "text/plain": [
       "(4647, 5590)"
      ]
     },
     "execution_count": 16,
     "metadata": {},
     "output_type": "execute_result"
    }
   ],
   "source": [
    "test_input = \"\"\"b inc 5 if a > 1\n",
    "a inc 1 if b < 5\n",
    "c dec -10 if a >= 1\n",
    "c inc -20 if c == 10\"\"\"\n",
    "\n",
    "operation = {\n",
    "    \"inc\": lambda x, y: x + y,\n",
    "    \"dec\": lambda x, y: x - y\n",
    "}\n",
    "\n",
    "condition = {\n",
    "    \">\": lambda x, y: x > y,\n",
    "    \"<\": lambda x, y: x < y,\n",
    "    \">=\": lambda x, y: x >= y,\n",
    "    \"<=\": lambda x, y: x <= y,\n",
    "    \"==\": lambda x, y: x == y,\n",
    "    \"!=\": lambda x, y: x != y\n",
    "}\n",
    "\n",
    "def parse_reg(line, regs):\n",
    "    target, symbol, amount, _, cond_target, cond_symbol, cond_amount = line.split()\n",
    "    ret = 0\n",
    "    if condition[cond_symbol](regs[cond_target], int(cond_amount)):\n",
    "        regs[target] = operation[symbol](regs[target], int(amount))\n",
    "        ret = regs[target]\n",
    "    return ret\n",
    "\n",
    "def max_reg(text):\n",
    "    historical_max = 0\n",
    "    regs = defaultdict(int)\n",
    "    for line in text.splitlines():\n",
    "        historical_max = max(historical_max, parse_reg(line, regs))\n",
    "    return max(regs.values()), historical_max\n",
    "\n",
    "assert max_reg(test_input) == (1, 10)\n",
    "\n",
    "max_reg(Input(8).read())"
   ]
  },
  {
   "cell_type": "markdown",
   "metadata": {
    "collapsed": false,
    "deletable": true,
    "editable": true,
    "scrolled": false
   },
   "source": [
    "# [Day 9](http://adventofcode.com/2017/day/9): Stream Processing\n",
    "\n",
    "Today was my first time being bitten by mutable default args 😱\n",
    "\n",
    "I thought building a tree of the input might be useful for whatever Part 2 would entail, but that would up being straightforward."
   ]
  },
  {
   "cell_type": "code",
   "execution_count": 17,
   "metadata": {
    "collapsed": false,
    "deletable": true,
    "editable": true
   },
   "outputs": [
    {
     "data": {
      "text/plain": [
       "12803"
      ]
     },
     "execution_count": 17,
     "metadata": {},
     "output_type": "execute_result"
    }
   ],
   "source": [
    "class Node:\n",
    "    def __init__(self, depth):\n",
    "        self.depth = depth\n",
    "        self.children = []\n",
    "        \n",
    "def parse_garbage(it):\n",
    "    count = 0\n",
    "    for c in it:\n",
    "        if c == '>':\n",
    "            return count\n",
    "        if c == '!':\n",
    "            next(it)\n",
    "            continue\n",
    "        count += 1\n",
    "\n",
    "def parse_stream(it, root=None):\n",
    "    if root == None:\n",
    "        root = Node(0)\n",
    "    for c in it:\n",
    "        if c == '<':\n",
    "            parse_garbage(it)\n",
    "        elif c == '{':\n",
    "            root.children.append(parse_stream(it, Node(root.depth + 1)))\n",
    "        elif c == '}':\n",
    "            return root\n",
    "            \n",
    "    return root\n",
    "        \n",
    "def walk_tree(root):\n",
    "    score = 0\n",
    "    nodes = deque([root])\n",
    "    while nodes:\n",
    "        node = nodes.popleft()\n",
    "        score += node.depth\n",
    "        for child in node.children:\n",
    "            nodes.append(child)\n",
    "    return score\n",
    "\n",
    "def find_score(text):\n",
    "    return walk_tree(parse_stream(iter(text)))\n",
    "\n",
    "assert find_score(\"{}\") == 1\n",
    "assert find_score(\"{{{}}}\") == 6\n",
    "assert find_score(\"{{},{}}\") == 5\n",
    "assert find_score(\"{{{},{},{{}}}}\") == 16.\n",
    "assert find_score(\"{<a>,<a>,<a>,<a>}\") == 1\n",
    "assert find_score(\"{{<ab>},{<ab>},{<ab>},{<ab>}}\") == 9\n",
    "assert find_score(\"{{<!!>},{<!!>},{<!!>},{<!!>}}\") == 9\n",
    "assert find_score(\"{{<a!>},{<a!>},{<a!>},{<ab>}}\") == 3\n",
    "\n",
    "find_score(Input(9).read())"
   ]
  },
  {
   "cell_type": "code",
   "execution_count": 18,
   "metadata": {
    "collapsed": false,
    "deletable": true,
    "editable": true
   },
   "outputs": [
    {
     "data": {
      "text/plain": [
       "6425"
      ]
     },
     "execution_count": 18,
     "metadata": {},
     "output_type": "execute_result"
    }
   ],
   "source": [
    "def count_garbage(it):\n",
    "    count = 0\n",
    "    for c in it:\n",
    "        if c == '<':\n",
    "            count += parse_garbage(it)\n",
    "    return count\n",
    "\n",
    "assert count_garbage(iter('<{o\"i!a,<{i<a>')) == 10\n",
    "\n",
    "count_garbage(iter(Input(9).read()))"
   ]
  },
  {
   "cell_type": "markdown",
   "metadata": {
    "deletable": true,
    "editable": true
   },
   "source": [
    "# [Day 10](http://adventofcode.com/2017/day/10): Knot hash\n",
    "\n",
    "In hindsight, itertools.cycle would have been real useful here."
   ]
  },
  {
   "cell_type": "code",
   "execution_count": 19,
   "metadata": {
    "collapsed": false,
    "deletable": true,
    "editable": true
   },
   "outputs": [
    {
     "data": {
      "text/plain": [
       "826"
      ]
     },
     "execution_count": 19,
     "metadata": {},
     "output_type": "execute_result"
    }
   ],
   "source": [
    "INPUT = [120,93,0,90,5,80,129,74,1,165,204,255,254,2,50,113]\n",
    "\n",
    "def ring_get(ring, n, i):\n",
    "    \"Get n elements from the ring starting at index i\"\n",
    "    to_end = ring[i:min(n + i, len(ring))]\n",
    "    wrap = ring[:n - len(to_end)]\n",
    "    return to_end + wrap\n",
    "    \n",
    "def ring_put(ring, elements, i):\n",
    "    \"Insert elements in ring, starting at index i\"\n",
    "    for j, e in enumerate(elements):\n",
    "        idx = (i + j) % len(ring)\n",
    "        ring[idx] = e\n",
    "    return ring\n",
    "    \n",
    "def list_gen(n):\n",
    "    \"Generate a list of numbers from 0..n\"\n",
    "    return [i for i in range(n + 1)]\n",
    "\n",
    "def twist(ring, length, i):\n",
    "    to_reverse = ring_get(ring, length, i)\n",
    "    to_reverse.reverse()\n",
    "    ring_put(ring, to_reverse, i)\n",
    "    return ring\n",
    "    \n",
    "def do_twists(ring, lengths, pos=0, skip_size=0):\n",
    "    for l in lengths:\n",
    "        twist(ring, l, pos)\n",
    "        pos = (pos + l + skip_size) % len(ring)\n",
    "        skip_size += 1\n",
    "    return (ring, pos, skip_size)\n",
    "    \n",
    "l = [1, 2, 3, 4]\n",
    "assert ring_get(l, 4, 2) == [3, 4, 1, 2]\n",
    "assert ring_put(l, [6, 7, 8], 2) == [8, 2, 6, 7]\n",
    "assert list_gen(4) == [0, 1, 2, 3, 4]\n",
    "\n",
    "test_input = [3, 4, 1, 5]\n",
    "test_list = list_gen(4)\n",
    "assert twist(test_list, 3, 0) == [2, 1, 0, 3, 4]\n",
    "\n",
    "assert do_twists(list_gen(4), test_input)[0] == [3, 4, 2, 1, 0]\n",
    "\n",
    "first, second, *_ = do_twists(list_gen(255), INPUT)[0]\n",
    "first * second"
   ]
  },
  {
   "cell_type": "code",
   "execution_count": 20,
   "metadata": {
    "collapsed": false,
    "deletable": true,
    "editable": true
   },
   "outputs": [
    {
     "data": {
      "text/plain": [
       "'d067d3f14d07e09c2e7308c3926605c4'"
      ]
     },
     "execution_count": 20,
     "metadata": {},
     "output_type": "execute_result"
    }
   ],
   "source": [
    "SUFFIX = [17, 31, 73, 47, 23]\n",
    "ASCII_INPUT = \"120,93,0,90,5,80,129,74,1,165,204,255,254,2,50,113\"\n",
    "RING_SIZE = 255\n",
    "ITERATIONS = 64\n",
    "BLOCK = 16\n",
    "\n",
    "def hex_format(c):\n",
    "    res = format(c, 'x')\n",
    "    if len(res) == 1:\n",
    "        return \"0\" + res\n",
    "    return res\n",
    "\n",
    "def knot_hash(s):\n",
    "    lengths = [ord(c) for c in s] + SUFFIX\n",
    "    pos = 0\n",
    "    skip_size = 0\n",
    "    sparse_hash = list_gen(RING_SIZE)\n",
    "    for i in range(0, ITERATIONS):\n",
    "        sparse_hash, pos, skip_size = do_twists(sparse_hash, lengths, pos, skip_size)\n",
    "    \n",
    "    dense_hash = []\n",
    "    chunks = [sparse_hash[i:i + BLOCK] for i in range(0, len(sparse_hash), BLOCK)]\n",
    "    for chunk in chunks:\n",
    "        res = 0\n",
    "        for el in chunk:\n",
    "            res = res ^ el\n",
    "        dense_hash.append(hex_format(res))\n",
    "    \n",
    "    return \"\".join(dense_hash)\n",
    "\n",
    "assert knot_hash(\"\") == \"a2582a3a0e66e6e86e3812dcb672a272\"\n",
    "assert knot_hash(\"AoC 2017\") == \"33efeb34ea91902bb2f59c9920caa6cd\"\n",
    "\n",
    "knot_hash(ASCII_INPUT)"
   ]
  },
  {
   "cell_type": "markdown",
   "metadata": {
    "collapsed": false,
    "deletable": true,
    "editable": true
   },
   "source": [
    "# [Day 11](http://adventofcode.com/2017/day/11): Hex Ed\n",
    "\n",
    "Approaching part 1 by enumerating all direction combinations that cancel out or reduce to a simpler direction."
   ]
  },
  {
   "cell_type": "code",
   "execution_count": 21,
   "metadata": {
    "collapsed": false,
    "deletable": true,
    "editable": true
   },
   "outputs": [
    {
     "data": {
      "text/plain": [
       "722"
      ]
     },
     "execution_count": 21,
     "metadata": {},
     "output_type": "execute_result"
    }
   ],
   "source": [
    "def shortest_path(hex_path):    \n",
    "    def equivalent(d1, d2, d3):\n",
    "        for i in range(min(counts[d1], counts[d2])):\n",
    "            counts[d1] -= 1\n",
    "            counts[d2] -= 1\n",
    "            \n",
    "            if d3:\n",
    "                counts[d3] += 1\n",
    "            \n",
    "    steps = hex_path.split(\",\")\n",
    "    counts = Counter(steps)\n",
    "             \n",
    "    equivalent(\"ne\", \"sw\", None)\n",
    "    equivalent(\"se\", \"nw\", None)\n",
    "    equivalent(\"s\", \"n\", None)\n",
    "\n",
    "    equivalent(\"ne\", \"nw\", \"n\")\n",
    "    equivalent(\"se\", \"sw\", \"s\")\n",
    "    equivalent(\"ne\", \"s\", \"se\")\n",
    "    equivalent(\"nw\", \"s\", \"sw\")\n",
    "    equivalent(\"sw\", \"n\", \"nw\")\n",
    "    equivalent(\"se\", \"n\", \"ne\")\n",
    "    return sum(counts.values())\n",
    "        \n",
    "assert shortest_path(\"ne,ne,ne\") == 3\n",
    "assert shortest_path(\"ne,ne,sw,sw\") == 0\n",
    "assert shortest_path(\"ne,ne,s,s\") == 2\n",
    "assert shortest_path(\"se,sw,se,sw,sw\") == 3\n",
    "\n",
    "shortest_path(Input(11).read().strip())"
   ]
  },
  {
   "cell_type": "markdown",
   "metadata": {
    "deletable": true,
    "editable": true
   },
   "source": [
    "Whoops, can't reuse any of this for part 2."
   ]
  },
  {
   "cell_type": "code",
   "execution_count": 22,
   "metadata": {
    "collapsed": false,
    "deletable": true,
    "editable": true
   },
   "outputs": [
    {
     "data": {
      "text/plain": [
       "1551"
      ]
     },
     "execution_count": 22,
     "metadata": {},
     "output_type": "execute_result"
    }
   ],
   "source": [
    "class Location:\n",
    "    def __init__(self, x, y):\n",
    "        self.x = x\n",
    "        self.y = y\n",
    "    \n",
    "    def move(self, direction):\n",
    "        if direction == \"n\":\n",
    "            self.y += 2\n",
    "        if direction == \"s\":\n",
    "            self.y -= 2\n",
    "        if direction == \"ne\":\n",
    "            self.x += 1\n",
    "            self.y += 1\n",
    "        if direction == \"se\":\n",
    "            self.x += 1\n",
    "            self.y -= 1\n",
    "        if direction == \"nw\":\n",
    "            self.x -= 1\n",
    "            self.y += 1\n",
    "        if direction == \"sw\":\n",
    "            self.x -= 1\n",
    "            self.y -= 1\n",
    "\n",
    "def furthest_from_start(hex_path):\n",
    "    loc = Location(0, 0)\n",
    "    steps = hex_path.split(\",\")\n",
    "    furthest = 0\n",
    "    for step in steps:\n",
    "        loc.move(step)\n",
    "        furthest = max(furthest, (abs(loc.x) + abs(loc.y)) // 2)\n",
    "    return furthest\n",
    "\n",
    "assert furthest_from_start(\"ne,ne,sw,sw\") == 2\n",
    "furthest_from_start(Input(11).read().strip())"
   ]
  },
  {
   "cell_type": "markdown",
   "metadata": {
    "deletable": true,
    "editable": true
   },
   "source": [
    "# [Day 12](http://adventofcode.com/2017/day/12): Digital Plumber\n"
   ]
  },
  {
   "cell_type": "code",
   "execution_count": 23,
   "metadata": {
    "collapsed": false,
    "deletable": true,
    "editable": true
   },
   "outputs": [
    {
     "data": {
      "text/plain": [
       "145"
      ]
     },
     "execution_count": 23,
     "metadata": {},
     "output_type": "execute_result"
    }
   ],
   "source": [
    "test_input = \"\"\"0 <-> 2\n",
    "1 <-> 1\n",
    "2 <-> 0, 3, 4\n",
    "3 <-> 2, 4\n",
    "4 <-> 2, 3, 6\n",
    "5 <-> 6\n",
    "6 <-> 4, 5\"\"\"\n",
    " \n",
    "def piped(text, source):\n",
    "    def add_deps(key):\n",
    "        for e in pipes[key]:\n",
    "            if not e in connected:\n",
    "                connected.add(e)\n",
    "                add_deps(e)\n",
    "    pipes = {}\n",
    "    connected = set()\n",
    "    for line in text.split(\"\\n\"):\n",
    "        key, _, *values = line.split(\" \")\n",
    "        values = set([v.strip(',') for v in values])\n",
    "        pipes[key] = values\n",
    "              \n",
    "    add_deps(source)\n",
    "\n",
    "    return len(connected)\n",
    " \n",
    "assert piped(test_input, \"0\") == 6\n",
    "\n",
    "piped(Input(12).read().strip(), \"0\")\n"
   ]
  },
  {
   "cell_type": "code",
   "execution_count": 24,
   "metadata": {
    "collapsed": false,
    "deletable": true,
    "editable": true
   },
   "outputs": [
    {
     "data": {
      "text/plain": [
       "207"
      ]
     },
     "execution_count": 24,
     "metadata": {},
     "output_type": "execute_result"
    }
   ],
   "source": [
    "def groups(text):\n",
    "    def add_deps(key, connected=None):\n",
    "        if not connected:\n",
    "            connected = set()\n",
    "        for e in pipes[key]:\n",
    "            if not e in connected:\n",
    "                connected.add(e)\n",
    "                add_deps(e, connected)\n",
    "        return connected\n",
    "                \n",
    "    pipes = {}\n",
    "    groups = set()\n",
    "    for line in text.split(\"\\n\"):\n",
    "        key, _, *values = line.split(\" \")\n",
    "        values = set([v.strip(',') for v in values])\n",
    "        pipes[key] = values\n",
    "              \n",
    "    groups = set()\n",
    "    for k in pipes:\n",
    "        deps = add_deps(k)\n",
    "        groups.add(frozenset(deps))\n",
    "\n",
    "    return len(groups)\n",
    "\n",
    "\n",
    "assert groups(test_input) == 2\n",
    "groups(Input(12).read().strip())\n"
   ]
  },
  {
   "cell_type": "markdown",
   "metadata": {
    "deletable": true,
    "editable": true
   },
   "source": [
    "# [Day 13](http://adventofcode.com/2017/day/13): Packet Scanners"
   ]
  },
  {
   "cell_type": "code",
   "execution_count": 25,
   "metadata": {
    "collapsed": false,
    "deletable": true,
    "editable": true
   },
   "outputs": [
    {
     "name": "stdout",
     "output_type": "stream",
     "text": [
      "result 1844\n"
     ]
    }
   ],
   "source": [
    "INPUT = \"\"\"0: 4\n",
    "1: 2\n",
    "2: 3\n",
    "4: 4\n",
    "6: 8\n",
    "8: 5\n",
    "10: 6\n",
    "12: 6\n",
    "14: 10\n",
    "16: 8\n",
    "18: 6\n",
    "20: 9\n",
    "22: 8\n",
    "24: 6\n",
    "26: 8\n",
    "28: 8\n",
    "30: 12\n",
    "32: 12\n",
    "34: 12\n",
    "36: 12\n",
    "38: 10\n",
    "40: 12\n",
    "42: 12\n",
    "44: 14\n",
    "46: 8\n",
    "48: 14\n",
    "50: 12\n",
    "52: 14\n",
    "54: 14\n",
    "58: 14\n",
    "60: 12\n",
    "62: 14\n",
    "64: 14\n",
    "66: 12\n",
    "68: 12\n",
    "72: 14\n",
    "74: 18\n",
    "76: 17\n",
    "86: 14\n",
    "88: 20\n",
    "92: 14\n",
    "94: 14\n",
    "96: 18\n",
    "98: 18\"\"\"\n",
    "\n",
    "TEST_INPUT = \"\"\"0: 3\n",
    "1: 2\n",
    "4: 4\n",
    "6: 4\"\"\"\n",
    "\n",
    "class Layer:\n",
    "    def __init__(self, depth, range):\n",
    "        self.depth = depth\n",
    "        self.range = range\n",
    "        self.scanner_location = 0\n",
    "        self.up = lambda x: x + 1\n",
    "        self.down = lambda x: x - 1\n",
    "        self.scanner_move = self.up\n",
    "\n",
    "    def bump_scanner(self):\n",
    "        self.scanner_location = self.scanner_move(self.scanner_location)\n",
    "        if self.scanner_location == 0:\n",
    "            self.scanner_move = self.up\n",
    "        if self.scanner_location == self.range - 1:\n",
    "            self.scanner_move = self.down\n",
    "\n",
    "class Firewall:\n",
    "    def __init__(self, text):\n",
    "        self.layers = {}\n",
    "        self.packet = -1\n",
    "        for line in text.splitlines():\n",
    "            depth, range = [int(part.strip()) for part in line.split(\":\")]\n",
    "            self.layers[depth] = Layer(depth, range)\n",
    "            self.last = depth\n",
    "\n",
    "    def reset_scanners(self):\n",
    "        for layer in self.layers.values():\n",
    "            layer.scanner_location = 0\n",
    "            layer.scanner_move = layer.up\n",
    "            layer.direction = \"UP\"\n",
    "            \n",
    "    def move_scanners(self):\n",
    "        for layer in self.layers.values():\n",
    "            layer.bump_scanner()\n",
    "\n",
    "    def move_packet(self):\n",
    "        self.packet += 1\n",
    "        layer = self.layers.get(self.packet)\n",
    "        loc = None\n",
    "        if layer:\n",
    "            loc = layer.scanner_location\n",
    "        if layer and layer.scanner_location == 0:\n",
    "            return layer.depth * layer.range\n",
    "        return 0\n",
    "\n",
    "    def cross(self):\n",
    "        severity = 0\n",
    "        for i in range(self.last + 1):\n",
    "            severity += self.move_packet()\n",
    "            self.move_scanners()\n",
    "        return severity\n",
    "            \n",
    "f = Firewall(TEST_INPUT)\n",
    "assert f.cross() == 24\n",
    "\n",
    "f = Firewall(INPUT)\n",
    "print(\"result\", f.cross())\n"
   ]
  },
  {
   "cell_type": "markdown",
   "metadata": {
    "deletable": true,
    "editable": true
   },
   "source": [
    "Building the simulation above took way too long to compute part 2, so instead I'm now just calculating the position of the scanner at each timer, layer combo."
   ]
  },
  {
   "cell_type": "code",
   "execution_count": 26,
   "metadata": {
    "collapsed": false,
    "deletable": true,
    "editable": true
   },
   "outputs": [
    {
     "data": {
      "text/plain": [
       "3897604"
      ]
     },
     "execution_count": 26,
     "metadata": {},
     "output_type": "execute_result"
    }
   ],
   "source": [
    "def find_delay(text):\n",
    "    layers = {}\n",
    "    for line in text.splitlines():\n",
    "        depth, length = [int(part.strip()) for part in line.split(\":\")]\n",
    "        layers[depth] = length\n",
    "        \n",
    "    for delay in count(0):\n",
    "        if find_hit(delay, layers):\n",
    "            return delay\n",
    "\n",
    "def find_hit(delay, layers):\n",
    "    highest = max(layers.keys())\n",
    "    time = delay\n",
    "    for tick in range(highest + 1):\n",
    "        time = delay + tick\n",
    "        layer = layers.get(tick)\n",
    "        if layer and scanner_position(layer, time) == 0:\n",
    "            return False\n",
    "    return True\n",
    "    \n",
    "def scanner_position(length, time):\n",
    "    position = time % (2 * length - 2)\n",
    "    if position > length - 1:\n",
    "        position = 2 * (length - 1) - position\n",
    "    return position\n",
    "\n",
    "find_delay(TEST_INPUT)\n",
    "find_delay(INPUT)"
   ]
  },
  {
   "cell_type": "markdown",
   "metadata": {
    "collapsed": false,
    "deletable": true,
    "editable": true
   },
   "source": [
    "# [Day 14](http://adventofcode.com/2017/day/14): Disk Defragmentation"
   ]
  },
  {
   "cell_type": "code",
   "execution_count": 27,
   "metadata": {
    "collapsed": false,
    "deletable": true,
    "editable": true
   },
   "outputs": [
    {
     "data": {
      "text/plain": [
       "8222"
      ]
     },
     "execution_count": 27,
     "metadata": {},
     "output_type": "execute_result"
    }
   ],
   "source": [
    "TEST_INPUT = \"flqrgnkx\"\n",
    "INPUT = \"amgozmfv\"\n",
    "GRID_SIZE = 128\n",
    "\n",
    "def disk_count(text):\n",
    "    count = 0\n",
    "    for i in range(GRID_SIZE):\n",
    "        row_hash = knot_hash(text + \"-\" + str(i))\n",
    "        count += bin(int(row_hash, 16))[2:].count(\"1\")\n",
    "    return count\n",
    "\n",
    "assert disk_count(TEST_INPUT) == 8108\n",
    "disk_count(INPUT)"
   ]
  },
  {
   "cell_type": "markdown",
   "metadata": {
    "deletable": true,
    "editable": true
   },
   "source": [
    "### Part Two\n",
    "Now, all the defragmenter needs to know is the number of regions. A region is a group of used squares that are all adjacent, not including diagonals. Every used square is in exactly one region: lone used squares form their own isolated regions, while several adjacent squares all count as a single region.\n",
    "\n",
    "In the example above, the following nine regions are visible, each marked with a distinct digit:\n",
    "```\n",
    "11.2.3..-->\n",
    ".1.2.3.4   \n",
    "....5.6.   \n",
    "7.8.55.9   \n",
    ".88.5...   \n",
    "88..5..8   \n",
    ".8...8..   \n",
    "88.8.88.-->\n",
    "|      |   \n",
    "V      V   \n",
    "```\n",
    "Of particular interest is the region marked 8; while it does not appear contiguous in this small view, all of the squares marked 8 are connected when considering the whole 128x128 grid. In total, in this example, 1242 regions are present.\n",
    "\n",
    "How many regions are present given your key string?"
   ]
  },
  {
   "cell_type": "code",
   "execution_count": 28,
   "metadata": {
    "collapsed": false,
    "deletable": true,
    "editable": true
   },
   "outputs": [
    {
     "data": {
      "text/plain": [
       "1086"
      ]
     },
     "execution_count": 28,
     "metadata": {},
     "output_type": "execute_result"
    }
   ],
   "source": [
    "def disk_graph(text):\n",
    "    grid = []\n",
    "    for i in range(GRID_SIZE):\n",
    "        row_hash = knot_hash(text + \"-\" + str(i))\n",
    "        binary = bin(int(row_hash, 16))[2:]\n",
    "        binary = (GRID_SIZE - len(binary)) * \"0\" + binary\n",
    "        grid.append([int(i) for i in list(binary)])\n",
    "    return grid\n",
    "\n",
    "def bounded_neighbors(x, y, size):\n",
    "    neighbors = []\n",
    "    if x < size - 1:\n",
    "        neighbors.append((x + 1, y))\n",
    "    if y < size - 1:\n",
    "        neighbors.append((x, y + 1))\n",
    "    if x > 0:\n",
    "        neighbors.append((x - 1, y))\n",
    "    if y > 0:\n",
    "        neighbors.append((x, y - 1))\n",
    "    return neighbors\n",
    "\n",
    "def dfs(x, y, grid):\n",
    "    size = len(grid[0])\n",
    "    visited = set((x, y))\n",
    "    to_visit = bounded_neighbors(x, y, size)\n",
    "    while to_visit:\n",
    "        x, y = to_visit.pop()\n",
    "        if grid[x][y] == 1 and (x, y) not in visited:\n",
    "            visited.add((x, y))\n",
    "            to_visit.extend(bounded_neighbors(x, y, size))\n",
    "    \n",
    "    return visited\n",
    "\n",
    "def count_regions(grid, size):\n",
    "    visited = set()\n",
    "    regions = 0\n",
    "    for i in range(size):\n",
    "        for j in range(size):\n",
    "            if (i, j) not in visited and grid[i][j] == 1:\n",
    "                seen = dfs(i, j, grid)\n",
    "                regions += 1\n",
    "                visited = visited | seen\n",
    "    return regions\n",
    "                \n",
    "TEST_GRID = [[1, 0, 1],\n",
    "            [0, 0, 1],\n",
    "            [1, 0, 1]]\n",
    "\n",
    "assert count_regions(TEST_GRID, 3) == 3\n",
    "assert count_regions(disk_graph(TEST_INPUT), GRID_SIZE) == 1242\n",
    "\n",
    "count_regions(disk_graph(INPUT), GRID_SIZE)"
   ]
  },
  {
   "cell_type": "markdown",
   "metadata": {
    "deletable": true,
    "editable": true
   },
   "source": [
    "# [Day 15](http://adventofcode.com/2017/day/15): Dueling Generators\n",
    "Here, you encounter a pair of dueling generators. The generators, called generator A and generator B, are trying to agree on a sequence of numbers. However, one of them is malfunctioning, and so the sequences don't always match.\n",
    "\n",
    "As they do this, a judge waits for each of them to generate its next value, compares the lowest 16 bits of both values, and keeps track of the number of times those parts of the values match.\n",
    "\n",
    "The generators both work on the same principle. To create its next value, a generator will take the previous value it produced, multiply it by a factor (generator A uses 16807; generator B uses 48271), and then keep the remainder of dividing that resulting product by 2147483647. That final remainder is the value it produces next.\n",
    "\n",
    "To calculate each generator's first value, it instead uses a specific starting value as its \"previous value\" (as listed in your puzzle input).\n",
    "\n",
    "For example, suppose that for starting values, generator A uses 65, while generator B uses 8921. Then, the first five pairs of generated values are:\n",
    "```\n",
    "--Gen. A--  --Gen. B--\n",
    "   1092455   430625591\n",
    "1181022009  1233683848\n",
    " 245556042  1431495498\n",
    "1744312007   137874439\n",
    "1352636452   285222916\n",
    "In binary, these pairs are (with generator A's value first in each pair):\n",
    "\n",
    "00000000000100001010101101100111\n",
    "00011001101010101101001100110111\n",
    "\n",
    "01000110011001001111011100111001\n",
    "01001001100010001000010110001000\n",
    "\n",
    "00001110101000101110001101001010\n",
    "01010101010100101110001101001010\n",
    "\n",
    "01100111111110000001011011000111\n",
    "00001000001101111100110000000111\n",
    "\n",
    "01010000100111111001100000100100\n",
    "00010001000000000010100000000100\n",
    "```\n",
    "Here, you can see that the lowest (here, rightmost) 16 bits of the third value match: 1110001101001010. Because of this one match, after processing these five pairs, the judge would have added only 1 to its total.\n",
    "\n",
    "To get a significant sample, the judge would like to consider 40 million pairs. (In the example above, the judge would eventually find a total of 588 pairs that match in their lowest 16 bits.)\n",
    "\n",
    "After 40 million pairs, what is the judge's final count?"
   ]
  },
  {
   "cell_type": "code",
   "execution_count": 29,
   "metadata": {
    "collapsed": false
   },
   "outputs": [
    {
     "data": {
      "text/plain": [
       "600"
      ]
     },
     "execution_count": 29,
     "metadata": {},
     "output_type": "execute_result"
    }
   ],
   "source": [
    "A_START = 699\n",
    "B_START = 124\n",
    "\n",
    "A_FACTOR = 16807\n",
    "B_FACTOR = 48271\n",
    "\n",
    "DIVIDEND = 2147483647\n",
    "\n",
    "def gen(previous, factor, dividend=DIVIDEND):\n",
    "    return previous * factor % dividend\n",
    "\n",
    "\n",
    "a = A_START\n",
    "b = B_START\n",
    "count = 0\n",
    "\n",
    "for i in range(40*10**6):\n",
    "    low_bits = lambda x: x & 2**16-1\n",
    "    a = gen(a, A_FACTOR)\n",
    "    b = gen(b, B_FACTOR)\n",
    "    if low_bits(a) == low_bits(b):\n",
    "        count += 1\n",
    "\n",
    "count"
   ]
  },
  {
   "cell_type": "markdown",
   "metadata": {},
   "source": [
    "In the interest of trying to align a little better, the generators get more picky about the numbers they actually give to the judge.\n",
    "\n",
    "They still generate values in the same way, but now they only hand a value to the judge when it meets their criteria:\n",
    "\n",
    "Generator A looks for values that are multiples of 4.\n",
    "Generator B looks for values that are multiples of 8.\n",
    "Each generator functions completely independently: they both go through values entirely on their own, only occasionally handing an acceptable value to the judge, and otherwise working through the same sequence of values as before until they find one.\n",
    "\n",
    "The judge still waits for each generator to provide it with a value before comparing them (using the same comparison method as before). It keeps track of the order it receives values; the first values from each generator are compared, then the second values from each generator, then the third values, and so on.\n",
    "\n",
    "Using the example starting values given above, the generators now produce the following first five values each:\n",
    "```\n",
    "--Gen. A--  --Gen. B--\n",
    "1352636452  1233683848\n",
    "1992081072   862516352\n",
    " 530830436  1159784568\n",
    "1980017072  1616057672\n",
    " 740335192   412269392\n",
    " ```\n",
    "These values have the following corresponding binary values:\n",
    "```\n",
    "01010000100111111001100000100100\n",
    "01001001100010001000010110001000\n",
    "\n",
    "01110110101111001011111010110000\n",
    "00110011011010001111010010000000\n",
    "\n",
    "00011111101000111101010001100100\n",
    "01000101001000001110100001111000\n",
    "\n",
    "01110110000001001010100110110000\n",
    "01100000010100110001010101001000\n",
    "\n",
    "00101100001000001001111001011000\n",
    "00011000100100101011101101010000\n",
    "```\n",
    "Unfortunately, even though this change makes more bits similar on average, none of these values' lowest 16 bits match. Now, it's not until the 1056th pair that the judge finds the first match:\n",
    "```\n",
    "--Gen. A--  --Gen. B--\n",
    "1023762912   896885216\n",
    "\n",
    "00111101000001010110000111100000\n",
    "00110101011101010110000111100000\n",
    "```\n",
    "This change makes the generators much slower, and the judge is getting impatient; it is now only willing to consider 5 million pairs. (Using the values from the example above, after five million pairs, the judge would eventually find a total of 309 pairs that match in their lowest 16 bits.)\n",
    "\n",
    "After 5 million pairs, but using this new generator logic, what is the judge's final count?"
   ]
  },
  {
   "cell_type": "code",
   "execution_count": 30,
   "metadata": {
    "collapsed": false
   },
   "outputs": [
    {
     "data": {
      "text/plain": [
       "313"
      ]
     },
     "execution_count": 30,
     "metadata": {},
     "output_type": "execute_result"
    }
   ],
   "source": [
    "A_START = 699\n",
    "B_START = 124\n",
    "\n",
    "A_FACTOR = 16807\n",
    "B_FACTOR = 48271\n",
    "\n",
    "DIVIDEND = 2147483647\n",
    "\n",
    "def gen(previous, factor, multiple, dividend=DIVIDEND):\n",
    "    candidate = previous\n",
    "    while True:\n",
    "        candidate = candidate * factor % dividend\n",
    "        if candidate % multiple == 0:\n",
    "            return candidate\n",
    "\n",
    "a = A_START\n",
    "b = B_START\n",
    "count = 0\n",
    "\n",
    "for i in range(5*10**6):\n",
    "    low_bits = lambda x: x & 2**16-1\n",
    "    a = gen(a, A_FACTOR, 4)\n",
    "    b = gen(b, B_FACTOR, 8)\n",
    "    if low_bits(a) == low_bits(b):\n",
    "        count += 1\n",
    "\n",
    "count"
   ]
  },
  {
   "cell_type": "markdown",
   "metadata": {},
   "source": [
    "# [Day 16](https://adventofcode.com/2017/day/16): Permutation Promenade\n",
    "You come upon a very unusual sight; a group of programs here appear to be dancing.\n",
    "\n",
    "There are sixteen programs in total, named a through p. They start by standing in a line: a stands in position 0, b stands in position 1, and so on until p, which stands in position 15.\n",
    "\n",
    "The programs' dance consists of a sequence of dance moves:\n",
    "\n",
    "Spin, written sX, makes X programs move from the end to the front, but maintain their order otherwise. (For example, s3 on abcde produces cdeab).\n",
    "Exchange, written xA/B, makes the programs at positions A and B swap places.\n",
    "Partner, written pA/B, makes the programs named A and B swap places.\n",
    "For example, with only five programs standing in a line (abcde), they could do the following dance:\n",
    "```\n",
    "s1, a spin of size 1: eabcd.\n",
    "x3/4, swapping the last two programs: eabdc.\n",
    "pe/b, swapping programs e and b: baedc.\n",
    "```\n",
    "After finishing their dance, the programs end up in order baedc.\n",
    "\n",
    "You watch the dance for a while and record their dance moves (your puzzle input). In what order are the programs standing after their dance?"
   ]
  },
  {
   "cell_type": "code",
   "execution_count": 31,
   "metadata": {
    "collapsed": false
   },
   "outputs": [
    {
     "data": {
      "text/plain": [
       "'iabmedjhclofgknp'"
      ]
     },
     "execution_count": 31,
     "metadata": {},
     "output_type": "execute_result"
    }
   ],
   "source": [
    "TEST_INPUT = \"s1,x3/4,pe/b\"\n",
    "\n",
    "def dance_move(line, programs):\n",
    "    def swap(a, b):\n",
    "        temp = programs[a]\n",
    "        programs[a] = programs[b]\n",
    "        programs[b] = temp\n",
    "    \n",
    "    def spin(n):\n",
    "        for i in range(n):\n",
    "            programs.insert(0, programs.pop())\n",
    "    \n",
    "    move = line[0]\n",
    "    \n",
    "    if move == 's':\n",
    "        spin(int(line[1:]))\n",
    "\n",
    "    elif move == 'x':\n",
    "        a, b = line[1:].split(\"/\")\n",
    "        swap(int(a), int(b))\n",
    "\n",
    "    elif move == 'p':\n",
    "        a, b = line[1:].split(\"/\")\n",
    "        swap(programs.index(a), programs.index(b))\n",
    "\n",
    "def dance(text, end_program='p'):\n",
    "    programs = [chr(i) for i in range(ord('a'),ord(end_program)+1)]\n",
    "    for line in text.split(','):\n",
    "        dance_move(line, programs)\n",
    "\n",
    "    return \"\".join(programs)\n",
    "\n",
    "assert dance(TEST_INPUT, 'e') == \"baedc\"\n",
    "dance(Input(16).read().strip())"
   ]
  },
  {
   "cell_type": "markdown",
   "metadata": {},
   "source": [
    "Now that you're starting to get a feel for the dance moves, you turn your attention to the dance as a whole.\n",
    "\n",
    "Keeping the positions they ended up in from their previous dance, the programs perform it again and again: including the first dance, a total of one billion (1000000000) times.\n",
    "\n",
    "In the example above, their second dance would begin with the order baedc, and use the same dance moves:\n",
    "```\n",
    "s1, a spin of size 1: cbaed.\n",
    "x3/4, swapping the last two programs: cbade.\n",
    "pe/b, swapping programs e and b: ceadb.\n",
    "```\n",
    "\n",
    "In what order are the programs standing after their billion dances?"
   ]
  },
  {
   "cell_type": "code",
   "execution_count": 32,
   "metadata": {
    "collapsed": false
   },
   "outputs": [
    {
     "data": {
      "text/plain": [
       "35"
      ]
     },
     "execution_count": 32,
     "metadata": {},
     "output_type": "execute_result"
    }
   ],
   "source": [
    "def find_loop(text, end_program='p', n=10**9):\n",
    "    programs = [chr(i) for i in range(ord('a'),ord(end_program)+1)]\n",
    "    original = programs.copy()\n",
    "    for i in range(n):\n",
    "        for line in text.split(','):\n",
    "            dance_move(line, programs)\n",
    "            if programs == original:\n",
    "                return i\n",
    "find_loop(Input(16).read().strip())"
   ]
  },
  {
   "cell_type": "code",
   "execution_count": 33,
   "metadata": {
    "collapsed": false
   },
   "outputs": [
    {
     "data": {
      "text/plain": [
       "28"
      ]
     },
     "execution_count": 33,
     "metadata": {},
     "output_type": "execute_result"
    }
   ],
   "source": [
    "1000000000 % 36"
   ]
  },
  {
   "cell_type": "code",
   "execution_count": 34,
   "metadata": {
    "collapsed": false
   },
   "outputs": [
    {
     "data": {
      "text/plain": [
       "'oildcmfeajhbpngk'"
      ]
     },
     "execution_count": 34,
     "metadata": {},
     "output_type": "execute_result"
    }
   ],
   "source": [
    "def many_dances(text, end_program='p', n=28):\n",
    "    programs = [chr(i) for i in range(ord('a'),ord(end_program)+1)]\n",
    "    for i in range(n):\n",
    "        for line in text.split(','):\n",
    "            dance_move(line, programs)\n",
    "    return \"\".join(programs)\n",
    "\n",
    "many_dances(Input(16).read().strip())"
   ]
  },
  {
   "cell_type": "markdown",
   "metadata": {},
   "source": [
    "# [Day 17](https://adventofcode.com/2017/day/17): Spinlock\n",
    "\n",
    "Suddenly, whirling in the distance, you notice what looks like a massive, pixelated hurricane: a deadly spinlock. This spinlock isn't just consuming computing power, but memory, too; vast, digital mountains are being ripped from the ground and consumed by the vortex.\n",
    "\n",
    "If you don't move quickly, fixing that printer will be the least of your problems.\n",
    "\n",
    "This spinlock's algorithm is simple but efficient, quickly consuming everything in its path. It starts with a circular buffer containing only the value 0, which it marks as the current position. It then steps forward through the circular buffer some number of steps (your puzzle input) before inserting the first new value, 1, after the value it stopped on. The inserted value becomes the current position. Then, it steps forward from there the same number of steps, and wherever it stops, inserts after it the second new value, 2, and uses that as the new current position again.\n",
    "\n",
    "It repeats this process of stepping forward, inserting a new value, and using the location of the inserted value as the new current position a total of 2017 times, inserting 2017 as its final operation, and ending with a total of 2018 values (including 0) in the circular buffer.\n",
    "\n",
    "For example, if the spinlock were to step 3 times per insert, the circular buffer would begin to evolve like this (using parentheses to mark the current position after each iteration of the algorithm):\n",
    "\n",
    "- (0), the initial state before any insertions.\n",
    "- 0 (1): the spinlock steps forward three times (0, 0, 0), and then inserts the first value, 1, after it. 1 becomes the current position.\n",
    "- 0 (2) 1: the spinlock steps forward three times (0, 1, 0), and then inserts the second value, 2, after it. 2 becomes the current position.\n",
    "- 0  2 (3) 1: the spinlock steps forward three times (1, 0, 2), and then inserts the third value, 3, after it. 3 becomes the current position.\n",
    "And so on:\n",
    "```\n",
    "0  2 (4) 3  1\n",
    "0 (5) 2  4  3  1\n",
    "0  5  2  4  3 (6) 1\n",
    "0  5 (7) 2  4  3  6  1\n",
    "0  5  7  2  4  3 (8) 6  1\n",
    "0 (9) 5  7  2  4  3  8  6  1\n",
    "```\n",
    "Eventually, after 2017 insertions, the section of the circular buffer near the last insertion looks like this:\n",
    "\n",
    "1512  1134  151 (2017) 638  1513  851\n",
    "Perhaps, if you can identify the value that will ultimately be after the last value written (2017), you can short-circuit the spinlock. In this example, that would be 638.\n",
    "\n",
    "What is the value after 2017 in your completed circular buffer?\n",
    "\n"
   ]
  },
  {
   "cell_type": "code",
   "execution_count": 35,
   "metadata": {
    "collapsed": false
   },
   "outputs": [
    {
     "data": {
      "text/plain": [
       "866"
      ]
     },
     "execution_count": 35,
     "metadata": {},
     "output_type": "execute_result"
    }
   ],
   "source": [
    "INPUT = 345\n",
    "\n",
    "def spinlock(steps=INPUT, insertions=2017):\n",
    "    buffer = [0]\n",
    "    index, value = 0, 1\n",
    "    \n",
    "    for i in range(insertions):\n",
    "        index = (index + steps) % len(buffer) + 1\n",
    "        buffer.insert(index, value)\n",
    "        value += 1\n",
    "        \n",
    "    return buffer[(index + 1) % len(buffer)]\n",
    "\n",
    "assert spinlock(3) == 638\n",
    "\n",
    "spinlock(INPUT)"
   ]
  },
  {
   "cell_type": "markdown",
   "metadata": {},
   "source": [
    "The spinlock does not short-circuit. Instead, it gets more angry. At least, you assume that's what happened; it's spinning significantly faster than it was a moment ago.\n",
    "\n",
    "You have good news and bad news.\n",
    "\n",
    "The good news is that you have improved calculations for how to stop the spinlock. They indicate that you actually need to identify the value after 0 in the current state of the circular buffer.\n",
    "\n",
    "The bad news is that while you were determining this, the spinlock has just finished inserting its fifty millionth value (50000000).\n",
    "\n",
    "What is the value after 0 the moment 50000000 is inserted?"
   ]
  },
  {
   "cell_type": "code",
   "execution_count": 37,
   "metadata": {
    "collapsed": false
   },
   "outputs": [
    {
     "name": "stdout",
     "output_type": "stream",
     "text": [
      "CPU times: user 17 s, sys: 712 ms, total: 17.7 s\n",
      "Wall time: 17.7 s\n"
     ]
    },
    {
     "data": {
      "text/plain": [
       "11995607"
      ]
     },
     "execution_count": 37,
     "metadata": {},
     "output_type": "execute_result"
    }
   ],
   "source": [
    "def spinlock_part2(steps=INPUT, insertions=50000000):\n",
    "    buffer = [0] * insertions\n",
    "    index, value = 0, 1\n",
    "    \n",
    "    for i in range(insertions):\n",
    "        index = (index + steps) % value + 1\n",
    "        buffer[index] = value\n",
    "        value += 1\n",
    "        \n",
    "    return buffer[(buffer.index(0) + 1) % len(buffer)]\n",
    "\n",
    "%time spinlock_part2()"
   ]
  },
  {
   "cell_type": "markdown",
   "metadata": {},
   "source": [
    "# [Day 18](https://adventofcode.com/2017/day/18): Duet\n",
    "\n",
    "You discover a tablet containing some strange assembly code labeled simply \"Duet\". Rather than bother the sound card with it, you decide to run the code yourself. Unfortunately, you don't see any documentation, so you're left to figure out what the instructions mean on your own.\n",
    "\n",
    "It seems like the assembly is meant to operate on a set of registers that are each named with a single letter and that can each hold a single integer. You suppose each register should start with a value of 0.\n",
    "\n",
    "There aren't that many instructions, so it shouldn't be hard to figure out what they do. Here's what you determine:\n",
    "```\n",
    "snd X plays a sound with a frequency equal to the value of X.\n",
    "set X Y sets register X to the value of Y.\n",
    "add X Y increases register X by the value of Y.\n",
    "mul X Y sets register X to the result of multiplying the value contained in register X by the value of Y.\n",
    "mod X Y sets register X to the remainder of dividing the value contained in register X by the value of Y (that is, it sets X to the result of X modulo Y).\n",
    "rcv X recovers the frequency of the last sound played, but only when the value of X is not zero. (If it is zero, the command does nothing.)\n",
    "jgz X Y jumps with an offset of the value of Y, but only if the value of X is greater than zero. (An offset of 2 skips the next instruction, an offset of -1 jumps to the previous instruction, and so on.)\n",
    "```\n",
    "Many of the instructions can take either a register (a single letter) or a number. The value of a register is the integer it contains; the value of a number is that number.\n",
    "\n",
    "After each jump instruction, the program continues with the instruction to which the jump jumped. After any other instruction, the program continues with the next instruction. Continuing (or jumping) off either end of the program terminates it.\n",
    "\n",
    "For example:\n",
    "```\n",
    "set a 1\n",
    "add a 2\n",
    "mul a a\n",
    "mod a 5\n",
    "snd a\n",
    "set a 0\n",
    "rcv a\n",
    "jgz a -1\n",
    "set a 1\n",
    "jgz a -2\n",
    "```\n",
    "The first four instructions set a to 1, add 2 to it, square it, and then set it to itself modulo 5, resulting in a value of 4.\n",
    "Then, a sound with frequency 4 (the value of a) is played.\n",
    "After that, a is set to 0, causing the subsequent rcv and jgz instructions to both be skipped (rcv because a is 0, and jgz because a is not greater than 0).\n",
    "Finally, a is set to 1, causing the next jgz instruction to activate, jumping back two instructions to another jump, which jumps again to the rcv, which ultimately triggers the recover operation.\n",
    "At the time the recover operation is executed, the frequency of the last sound played is 4.\n",
    "\n",
    "What is the value of the recovered frequency (the value of the most recently played sound) the first time a rcv instruction is executed with a non-zero value?\n",
    "\n"
   ]
  },
  {
   "cell_type": "code",
   "execution_count": 89,
   "metadata": {
    "collapsed": true
   },
   "outputs": [],
   "source": [
    "INPUT = \"\"\"set i 31\n",
    "set a 1\n",
    "mul p 17\n",
    "jgz p p\n",
    "mul a 2\n",
    "add i -1\n",
    "jgz i -2\n",
    "add a -1\n",
    "set i 127\n",
    "set p 464\n",
    "mul p 8505\n",
    "mod p a\n",
    "mul p 129749\n",
    "add p 12345\n",
    "mod p a\n",
    "set b p\n",
    "mod b 10000\n",
    "snd b\n",
    "add i -1\n",
    "jgz i -9\n",
    "jgz a 3\n",
    "rcv b\n",
    "jgz b -1\n",
    "set f 0\n",
    "set i 126\n",
    "rcv a\n",
    "rcv b\n",
    "set p a\n",
    "mul p -1\n",
    "add p b\n",
    "jgz p 4\n",
    "snd a\n",
    "set a b\n",
    "jgz 1 3\n",
    "snd b\n",
    "set f 1\n",
    "add i -1\n",
    "jgz i -11\n",
    "snd a\n",
    "jgz f -16\n",
    "jgz a -19\"\"\""
   ]
  },
  {
   "cell_type": "code",
   "execution_count": 122,
   "metadata": {
    "collapsed": false
   },
   "outputs": [
    {
     "data": {
      "text/plain": [
       "1187"
      ]
     },
     "execution_count": 122,
     "metadata": {},
     "output_type": "execute_result"
    }
   ],
   "source": [
    "TEST = \"\"\"set a 1\n",
    "add a 2\n",
    "mul a a\n",
    "mod a 5\n",
    "snd a\n",
    "set a 0\n",
    "rcv a\n",
    "jgz a -1\n",
    "set a 1\n",
    "jgz a -2\"\"\"\n",
    "\n",
    "def execute(command, regs):\n",
    "    # Return (position delta, sound). delta == None indicates termination.\n",
    "    def parse(arg):\n",
    "        if arg.isalpha():\n",
    "            return arg\n",
    "        return int(arg)\n",
    "    \n",
    "    instruction, args = command.split(\" \")[0], command.split(\" \")[1:]\n",
    "    x = parse(args[0])\n",
    "    if len(args) > 1:\n",
    "        y = parse(args[1])\n",
    "        if not type(y) == int:\n",
    "            y = regs[y]\n",
    "\n",
    "    if instruction == \"snd\": return (1, regs[x])\n",
    "    elif instruction == \"set\": regs[x] = y\n",
    "    elif instruction == \"add\": regs[x] = regs[x] + y\n",
    "    elif instruction == \"mul\": regs[x] = regs[x] * y\n",
    "    elif instruction == \"mod\": regs[x] = regs[x] % y\n",
    "    elif instruction == \"rcv\" and regs[x]: return (None, None) \n",
    "    elif instruction == \"jgz\" and regs[x]: return (y, None)\n",
    "    \n",
    "    return (1, None)\n",
    "\n",
    "def run(text):    \n",
    "    regs = defaultdict(int)\n",
    "    last, position, delta = 0, 0, 1\n",
    "    commands = text.split(\"\\n\")\n",
    "    \n",
    "    while True:\n",
    "        command = commands[position]\n",
    "        delta, sound = execute(command, regs)\n",
    "        if sound:\n",
    "            last = sound\n",
    "        if not delta:\n",
    "            return last\n",
    "        position += delta\n",
    "             \n",
    "assert run(TEST) == 4\n",
    "\n",
    "run(INPUT)"
   ]
  },
  {
   "cell_type": "markdown",
   "metadata": {},
   "source": [
    "### Part Two\n",
    "As you congratulate yourself for a job well done, you notice that the documentation has been on the back of the tablet this entire time. While you actually got most of the instructions correct, there are a few key differences. This assembly code isn't about sound at all - it's meant to be run twice at the same time.\n",
    "\n",
    "Each running copy of the program has its own set of registers and follows the code independently - in fact, the programs don't even necessarily run at the same speed. To coordinate, they use the send (snd) and receive (rcv) instructions:\n",
    "\n",
    "snd X sends the value of X to the other program. These values wait in a queue until that program is ready to receive them. Each program has its own message queue, so a program can never receive a message it sent.\n",
    "rcv X receives the next value and stores it in register X. If no values are in the queue, the program waits for a value to be sent to it. Programs do not continue to the next instruction until they have received a value. Values are received in the order they are sent.\n",
    "Each program also has its own program ID (one 0 and the other 1); the register p should begin with this value.\n",
    "\n",
    "For example:\n",
    "```\n",
    "snd 1\n",
    "snd 2\n",
    "snd p\n",
    "rcv a\n",
    "rcv b\n",
    "rcv c\n",
    "rcv d\n",
    "```\n",
    "Both programs begin by sending three values to the other. Program 0 sends 1, 2, 0; program 1 sends 1, 2, 1. Then, each program receives a value (both 1) and stores it in a, receives another value (both 2) and stores it in b, and then each receives the program ID of the other program (program 0 receives 1; program 1 receives 0) and stores it in c. Each program now sees a different value in its own copy of register c.\n",
    "\n",
    "Finally, both programs try to rcv a fourth time, but no data is waiting for either of them, and they reach a deadlock. When this happens, both programs terminate.\n",
    "\n",
    "It should be noted that it would be equally valid for the programs to run at different speeds; for example, program 0 might have sent all three values and then stopped at the first rcv before program 1 executed even its first instruction.\n",
    "\n",
    "Once both of your programs have terminated (regardless of what caused them to do so), how many times did program 1 send a value?"
   ]
  },
  {
   "cell_type": "code",
   "execution_count": 170,
   "metadata": {
    "collapsed": false
   },
   "outputs": [
    {
     "data": {
      "text/plain": [
       "5969"
      ]
     },
     "execution_count": 170,
     "metadata": {},
     "output_type": "execute_result"
    }
   ],
   "source": [
    "def execute(command, regs, sndq, rcvq):\n",
    "    \"\"\"Returns (position delta, send count)\"\"\"\n",
    "    \n",
    "    def parse(arg):\n",
    "        \"\"\"Converts numeric args to ints\"\"\"\n",
    "        if arg.isalpha():\n",
    "            return arg\n",
    "        return int(arg)\n",
    "    \n",
    "    def value(arg):\n",
    "        \"\"\"If an arg is not numeric, return the value contained in the register[arg]\"\"\"\n",
    "        if not type(arg) == int:\n",
    "             return regs[arg]\n",
    "        return arg\n",
    "    \n",
    "    instruction, args = command.split(\" \")[0], command.split(\" \")[1:]\n",
    "    x = parse(args[0])\n",
    "    if len(args) > 1:\n",
    "        y = value(parse(args[1]))\n",
    "    \n",
    "    if instruction == \"snd\":\n",
    "        x = value(x)\n",
    "        sndq.insert(0, x)\n",
    "        return (1, 1)\n",
    "    elif instruction == \"rcv\" and regs[x]:\n",
    "        if rcvq: \n",
    "            regs[x] = rcvq.pop()\n",
    "        else: return (0, 0)\n",
    "        \n",
    "    elif instruction == \"set\": regs[x] = y\n",
    "    elif instruction == \"add\": regs[x] = regs[x] + y\n",
    "    elif instruction == \"mul\": regs[x] = regs[x] * y\n",
    "    elif instruction == \"mod\": regs[x] = regs[x] % y\n",
    "    elif instruction == \"jgz\":\n",
    "        x = value(x)\n",
    "        if x > 0:\n",
    "            return (y, 0)\n",
    "    \n",
    "    return (1, 0)\n",
    "\n",
    "def run(text):    \n",
    "    regs_a, regs_b = defaultdict(int), defaultdict(lambda: 1)\n",
    "    position_a, position_b = 0, 0\n",
    "    a_sndq, b_sndq = [], []\n",
    "    b_send = 0\n",
    "    commands = text.split(\"\\n\")\n",
    "    \n",
    "    a_term, b_term = False, False\n",
    "    while not a_term and not b_term:\n",
    "        if not a_term:\n",
    "            command_a = commands[position_a]\n",
    "            delta_a, _ = execute(command_a, regs_a, a_sndq, b_sndq)\n",
    "            position_a += delta_a\n",
    "        \n",
    "        if not b_term:\n",
    "            command_b = commands[position_b]\n",
    "\n",
    "            delta_b, send = execute(command_b, regs_b, b_sndq, a_sndq)\n",
    "            b_send += send\n",
    "            position_b += delta_b\n",
    "\n",
    "        if delta_a == 0 and delta_b == 0:\n",
    "            return b_send\n",
    "\n",
    "        if position_a >= len(commands) or position_a < 0:\n",
    "            a_term = True\n",
    "        \n",
    "        if position_b >= len(commands) or position_b < 0:\n",
    "            b_term = True\n",
    "\n",
    "    return b_send\n",
    "\n",
    "run(INPUT)"
   ]
  },
  {
   "cell_type": "markdown",
   "metadata": {},
   "source": [
    "# [Day 19](https://adventofcode.com/2017/day/19): A Series of Tubes\n",
    "Somehow, a network packet got lost and ended up here. It's trying to follow a routing diagram (your puzzle input), but it's confused about where to go.\n",
    "\n",
    "Its starting point is just off the top of the diagram. Lines (drawn with |, -, and +) show the path it needs to take, starting by going down onto the only line connected to the top of the diagram. It needs to follow this path until it reaches the end (located somewhere within the diagram) and stop there.\n",
    "\n",
    "Sometimes, the lines cross over each other; in these cases, it needs to continue going the same direction, and only turn left or right when there's no other option. In addition, someone has left letters on the line; these also don't change its direction, but it can use them to keep track of where it's been. For example:\n",
    "\n",
    "```\n",
    "     |          \n",
    "     |  +--+    \n",
    "     A  |  C    \n",
    " F---|----E|--+ \n",
    "     |  |  |  D \n",
    "     +B-+  +--+ \n",
    "```\n",
    "Given this diagram, the packet needs to take the following path:\n",
    "\n",
    "Starting at the only line touching the top of the diagram, it must go down, pass through A, and continue onward to the first +.\n",
    "Travel right, up, and right, passing through B in the process.\n",
    "Continue down (collecting C), right, and up (collecting D).\n",
    "Finally, go all the way left through E and stopping at F.\n",
    "Following the path to the end, the letters it sees on its path are ABCDEF.\n",
    "\n",
    "The little packet looks up at you, hoping you can help it find the way. What letters will it see (in the order it would see them) if it follows the path? (The routing diagram is very wide; make sure you view it without line wrapping.)"
   ]
  },
  {
   "cell_type": "code",
   "execution_count": 237,
   "metadata": {
    "collapsed": false
   },
   "outputs": [
    {
     "data": {
      "text/plain": [
       "('KGPTMEJVS', 16328)"
      ]
     },
     "execution_count": 237,
     "metadata": {},
     "output_type": "execute_result"
    }
   ],
   "source": [
    "TEST = \"\"\"     |          \n",
    "     |  +--+    \n",
    "     A  |  C    \n",
    " F---|----E|--+ \n",
    "     |  |  |  D \n",
    "     +B-+  +--+ \"\"\"\n",
    "\n",
    "def get_neighbors(x, y, grid):\n",
    "    neighbors = []\n",
    "    max_x = len(grid[0])\n",
    "    max_y = len(grid)\n",
    "    \n",
    "    if x > 0:\n",
    "        neighbors.append((x - 1, y))\n",
    "    if x < max_x - 1:\n",
    "        neighbors.append((x + 1, y))\n",
    "    if y > 0:\n",
    "        neighbors.append((x, y -1))\n",
    "    if y < max_y - 1:\n",
    "        neighbors.append((x, y + 1))\n",
    "    return neighbors\n",
    "\n",
    "def traverse(text):\n",
    "    up = lambda x, y: (x, y + 1)\n",
    "    down = lambda x, y: (x, y - 1)\n",
    "    left = lambda x, y: (x - 1, y)\n",
    "    right = lambda x, y: (x + 1, y)\n",
    "    \n",
    "    def new_direction(x, y, old_x, old_y):\n",
    "        if x == old_x:\n",
    "            if y - old_y > 0:\n",
    "                return up\n",
    "            return down\n",
    "        if x - old_x > 0:\n",
    "                return right\n",
    "        return left\n",
    "    \n",
    "    grid = [[c for c in line] for line in text.split(\"\\n\")]\n",
    "    x, y = grid[0].index('|'), 0\n",
    "    move = up\n",
    "    path = []\n",
    "    previous = None\n",
    "    steps = 0\n",
    "    \n",
    "    while True:\n",
    "        symbol = grid[y][x]\n",
    "        if symbol == \" \":\n",
    "            return \"\".join(path), steps\n",
    "        \n",
    "        steps += 1\n",
    "    \n",
    "        if symbol in ('|', '-'):\n",
    "            previous = (x, y)\n",
    "            x, y = move(x, y)\n",
    "            \n",
    "        elif symbol == '+':\n",
    "            candidates = get_neighbors(x, y, grid)\n",
    "            candidates.remove(previous)\n",
    "            previous = (x, y)\n",
    "\n",
    "            for new_x, new_y in candidates:\n",
    "                if grid[new_y][new_x] != ' ':\n",
    "                    move = new_direction(new_x, new_y, x, y)\n",
    "                    x, y = move(x, y)\n",
    "                    \n",
    "            if (x, y) == previous:\n",
    "                return \"\".join(path), steps\n",
    "    \n",
    "        else:\n",
    "            path.append(symbol)\n",
    "            previous = (x, y)\n",
    "            x, y = move(x, y)\n",
    "    \n",
    "assert traverse(TEST) == ('ABCDEF', 38)\n",
    "\n",
    "traverse(Input(19).read())"
   ]
  },
  {
   "cell_type": "markdown",
   "metadata": {},
   "source": [
    "# [Day 20](https://adventofcode.com/2017/day/20): A Series of Tubes\n",
    "Suddenly, the GPU contacts you, asking for help. Someone has asked it to simulate too many particles, and it won't be able to finish them all in time to render the next frame at this rate.\n",
    "\n",
    "It transmits to you a buffer (your puzzle input) listing each particle in order (starting with particle 0, then particle 1, particle 2, and so on). For each particle, it provides the X, Y, and Z coordinates for the particle's position (p), velocity (v), and acceleration (a), each in the format <X,Y,Z>.\n",
    "\n",
    "Each tick, all particles are updated simultaneously. A particle's properties are updated in the following order:\n",
    "```\n",
    "Increase the X velocity by the X acceleration.\n",
    "Increase the Y velocity by the Y acceleration.\n",
    "Increase the Z velocity by the Z acceleration.\n",
    "Increase the X position by the X velocity.\n",
    "Increase the Y position by the Y velocity.\n",
    "Increase the Z position by the Z velocity.\n",
    "```\n",
    "Because of seemingly tenuous rationale involving z-buffering, the GPU would like to know which particle will stay closest to position <0,0,0> in the long term. Measure this using the Manhattan distance, which in this situation is simply the sum of the absolute values of a particle's X, Y, and Z position.\n",
    "\n",
    "For example, suppose you are only given two particles, both of which stay entirely on the X-axis (for simplicity). Drawing the current states of particles 0 and 1 (in that order) with an adjacent a number line and diagram of current X positions (marked in parenthesis), the following would take place:\n",
    "```\n",
    "p=< 3,0,0>, v=< 2,0,0>, a=<-1,0,0>    -4 -3 -2 -1  0  1  2  3  4\n",
    "p=< 4,0,0>, v=< 0,0,0>, a=<-2,0,0>                         (0)(1)\n",
    "\n",
    "p=< 4,0,0>, v=< 1,0,0>, a=<-1,0,0>    -4 -3 -2 -1  0  1  2  3  4\n",
    "p=< 2,0,0>, v=<-2,0,0>, a=<-2,0,0>                      (1)   (0)\n",
    "\n",
    "p=< 4,0,0>, v=< 0,0,0>, a=<-1,0,0>    -4 -3 -2 -1  0  1  2  3  4\n",
    "p=<-2,0,0>, v=<-4,0,0>, a=<-2,0,0>          (1)               (0)\n",
    "\n",
    "p=< 3,0,0>, v=<-1,0,0>, a=<-1,0,0>    -4 -3 -2 -1  0  1  2  3  4\n",
    "p=<-8,0,0>, v=<-6,0,0>, a=<-2,0,0>                         (0)   \n",
    "```\n",
    "At this point, particle 1 will never be closer to <0,0,0> than particle 0, and so, in the long run, particle 0 will stay closest.\n",
    "\n",
    "Which particle will stay closest to position <0,0,0> in the long term?"
   ]
  },
  {
   "cell_type": "code",
   "execution_count": 334,
   "metadata": {
    "collapsed": false
   },
   "outputs": [
    {
     "data": {
      "text/plain": [
       "300"
      ]
     },
     "execution_count": 334,
     "metadata": {},
     "output_type": "execute_result"
    }
   ],
   "source": [
    "TEST = \"\"\"p=<3,0,0>, v=<2,0,0>, a=<-1,0,0>\n",
    "p=<4,0,0>, v=<0,0,0>, a=<-2,0,0>\"\"\"\n",
    "\n",
    "class Particle:\n",
    "    def __init__(self, position, velocity, acceleration):\n",
    "        self.position = position\n",
    "        self.velocity = velocity\n",
    "        self.acceleration = acceleration\n",
    "        \n",
    "    def tick(self):\n",
    "        for i, component in enumerate(self.acceleration): self.velocity[i] += component\n",
    "        for i, component in enumerate(self.velocity): self.position[i] += component\n",
    "\n",
    "        self.distance = sum((abs(component) for component in self.position))\n",
    "          \n",
    "def parse(line):\n",
    "    return Particle(*[[int(e) for e in v[v.find(\"<\") + 1 : v.find(\">\")].split(\",\")] for v in line.split(\" \")])\n",
    "        \n",
    "def simulate(text, ticks=1000):\n",
    "    particles = [parse(line) for line in text.split(\"\\n\")]\n",
    "    for i in range(ticks):\n",
    "        for particle in particles:\n",
    "            particle.tick()\n",
    "            \n",
    "    return particles.index(min(particles, key=lambda p:p.distance))\n",
    "        \n",
    "assert simulate(TEST) == 0\n",
    "\n",
    "simulate(Input(20).read().strip())"
   ]
  },
  {
   "cell_type": "markdown",
   "metadata": {},
   "source": [
    "### Part Two \n",
    "To simplify the problem further, the GPU would like to remove any particles that collide. Particles collide if their positions ever exactly match. Because particles are updated simultaneously, more than two particles can collide at the same time and place. Once particles collide, they are removed and cannot collide with anything else after that tick.\n",
    "\n",
    "For example:\n",
    "```\n",
    "p=<-6,0,0>, v=< 3,0,0>, a=< 0,0,0>    \n",
    "p=<-4,0,0>, v=< 2,0,0>, a=< 0,0,0>    -6 -5 -4 -3 -2 -1  0  1  2  3\n",
    "p=<-2,0,0>, v=< 1,0,0>, a=< 0,0,0>    (0)   (1)   (2)            (3)\n",
    "p=< 3,0,0>, v=<-1,0,0>, a=< 0,0,0>\n",
    "\n",
    "p=<-3,0,0>, v=< 3,0,0>, a=< 0,0,0>    \n",
    "p=<-2,0,0>, v=< 2,0,0>, a=< 0,0,0>    -6 -5 -4 -3 -2 -1  0  1  2  3\n",
    "p=<-1,0,0>, v=< 1,0,0>, a=< 0,0,0>             (0)(1)(2)      (3)   \n",
    "p=< 2,0,0>, v=<-1,0,0>, a=< 0,0,0>\n",
    "\n",
    "p=< 0,0,0>, v=< 3,0,0>, a=< 0,0,0>    \n",
    "p=< 0,0,0>, v=< 2,0,0>, a=< 0,0,0>    -6 -5 -4 -3 -2 -1  0  1  2  3\n",
    "p=< 0,0,0>, v=< 1,0,0>, a=< 0,0,0>                       X (3)      \n",
    "p=< 1,0,0>, v=<-1,0,0>, a=< 0,0,0>\n",
    "\n",
    "------destroyed by collision------    \n",
    "------destroyed by collision------    -6 -5 -4 -3 -2 -1  0  1  2  3\n",
    "------destroyed by collision------                      (3)         \n",
    "p=< 0,0,0>, v=<-1,0,0>, a=< 0,0,0>\n",
    "```\n",
    "In this example, particles 0, 1, and 2 are simultaneously destroyed at the time and place marked X. On the next tick, particle 3 passes through unharmed.\n",
    "\n",
    "How many particles are left after all collisions are resolved?"
   ]
  },
  {
   "cell_type": "code",
   "execution_count": 344,
   "metadata": {
    "collapsed": false
   },
   "outputs": [
    {
     "data": {
      "text/plain": [
       "502"
      ]
     },
     "execution_count": 344,
     "metadata": {},
     "output_type": "execute_result"
    }
   ],
   "source": [
    "def remove_collisions(particles):\n",
    "    seen_positions = defaultdict(list)\n",
    "    for particle in particles:\n",
    "        seen_positions[tuple(particle.position)].append(particle)\n",
    "    \n",
    "    for v in seen_positions.values():\n",
    "        if len(v) > 1:\n",
    "            for e in v:\n",
    "                particles.remove(e)\n",
    "    \n",
    "def simulate2(text, ticks=1000):\n",
    "    particles = [parse(line) for line in text.split(\"\\n\")]\n",
    "    for i in range(ticks):\n",
    "        for particle in particles:\n",
    "            particle.tick()\n",
    "        remove_collisions(particles)\n",
    "            \n",
    "    return len(particles)\n",
    "\n",
    "TEST=\"\"\"p=<-6,0,0>, v=<3,0,0>, a=<0,0,0>\n",
    "p=<-4,0,0>, v=<2,0,0>, a=<0,0,0>\n",
    "p=<-2,0,0>, v=<1,0,0>, a=<0,0,0>\n",
    "p=<3,0,0>, v=<-1,0,0>, a=<0,0,0>\"\"\"\n",
    "assert simulate2(TEST) == 1\n",
    "\n",
    "simulate2(Input(20).read().strip())"
   ]
  }
 ],
 "metadata": {
  "kernelspec": {
   "display_name": "Python 3",
   "language": "python",
   "name": "python3"
  },
  "language_info": {
   "codemirror_mode": {
    "name": "ipython",
    "version": 3
   },
   "file_extension": ".py",
   "mimetype": "text/x-python",
   "name": "python",
   "nbconvert_exporter": "python",
   "pygments_lexer": "ipython3",
   "version": "3.5.1"
  }
 },
 "nbformat": 4,
 "nbformat_minor": 2
}
