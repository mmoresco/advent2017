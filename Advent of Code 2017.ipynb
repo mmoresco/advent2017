{
 "cells": [
  {
   "cell_type": "code",
   "execution_count": 1,
   "metadata": {
    "collapsed": true
   },
   "outputs": [],
   "source": [
    "def Input(day):\n",
    "    \"Open this day's input file.\"\n",
    "    filename = 'input{}.txt'.format(day)\n",
    "    try:\n",
    "        return open(filename)\n",
    "    except FileNotFoundError:\n",
    "        print(\"No input file found for day\", day)"
   ]
  },
  {
   "cell_type": "markdown",
   "metadata": {},
   "source": [
    "# [Day 1](http://adventofcode.com/2017/day/1): Inverse Captcha\n",
    "### Part one\n",
    "Find the sum of all digits that match the next digit in the list. The list is circular, so the digit after the last digit is the first digit in the list."
   ]
  },
  {
   "cell_type": "code",
   "execution_count": 2,
   "metadata": {
    "collapsed": false
   },
   "outputs": [
    {
     "data": {
      "text/plain": [
       "1034"
      ]
     },
     "execution_count": 2,
     "metadata": {},
     "output_type": "execute_result"
    }
   ],
   "source": [
    "def parse(text):\n",
    "    \"Parse a string of numbers into a list of digits\"\n",
    "    return [int(n) for n in list(text.strip())]\n",
    "\n",
    "def captcha_n(digits, k):\n",
    "    sum = 0\n",
    "    \n",
    "    for i, n in enumerate(digits):\n",
    "        if n == digits[(i + k) % len(digits)]:\n",
    "            sum += n\n",
    "    \n",
    "    return sum\n",
    "\n",
    "def captcha(digits):\n",
    "    return captcha_n(digits, 1)\n",
    "\n",
    "assert parse(\"1234\") == [1, 2, 3, 4]\n",
    "assert captcha([1, 1, 2, 2]) == 3\n",
    "assert captcha([1, 1, 1, 1]) == 4\n",
    "assert captcha([1, 2, 3, 4]) == 0\n",
    "assert captcha([9, 1, 2, 1, 2, 1, 2, 9]) == 9\n",
    "\n",
    "captcha(parse(Input(1).read()))"
   ]
  },
  {
   "cell_type": "markdown",
   "metadata": {},
   "source": [
    "#### Part two\n",
    "Now, instead of considering the next digit, it wants you to consider the digit halfway around the circular list."
   ]
  },
  {
   "cell_type": "code",
   "execution_count": 3,
   "metadata": {
    "collapsed": false
   },
   "outputs": [
    {
     "data": {
      "text/plain": [
       "1356"
      ]
     },
     "execution_count": 3,
     "metadata": {},
     "output_type": "execute_result"
    }
   ],
   "source": [
    "def captcha_halfway(digits):\n",
    "    assert len(digits) % 2 == 0\n",
    "    return captcha_n(digits, len(digits) // 2)\n",
    "\n",
    "assert captcha_halfway([1, 2, 1, 2]) == 6\n",
    "assert captcha_halfway([1, 2, 3, 4, 2, 5]) == 4\n",
    "assert captcha_halfway([1, 2, 3, 1, 2, 3]) == 12\n",
    "assert captcha_halfway([1, 2, 1, 3, 1, 4, 1, 5]) == 4\n",
    "\n",
    "captcha_halfway(parse(Input(1).read()))"
   ]
  }
 ],
 "metadata": {
  "kernelspec": {
   "display_name": "Python 3",
   "language": "python",
   "name": "python3"
  },
  "language_info": {
   "codemirror_mode": {
    "name": "ipython",
    "version": 3
   },
   "file_extension": ".py",
   "mimetype": "text/x-python",
   "name": "python",
   "nbconvert_exporter": "python",
   "pygments_lexer": "ipython3",
   "version": "3.5.1"
  }
 },
 "nbformat": 4,
 "nbformat_minor": 2
}
