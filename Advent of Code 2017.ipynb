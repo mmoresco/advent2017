{
 "cells": [
  {
   "cell_type": "code",
   "execution_count": 1,
   "metadata": {
    "collapsed": true,
    "deletable": true,
    "editable": true
   },
   "outputs": [],
   "source": [
    "def Input(day):\n",
    "    \"Open this day's input file.\"\n",
    "    filename = 'input{}.txt'.format(day)\n",
    "    try:\n",
    "        return open(filename)\n",
    "    except FileNotFoundError:\n",
    "        print(\"No input file found for day\", day)"
   ]
  },
  {
   "cell_type": "markdown",
   "metadata": {
    "deletable": true,
    "editable": true
   },
   "source": [
    "# [Day 1](http://adventofcode.com/2017/day/1): Inverse Captcha\n",
    "### Part one\n",
    "Find the sum of all digits that match the next digit in the list. The list is circular, so the digit after the last digit is the first digit in the list."
   ]
  },
  {
   "cell_type": "code",
   "execution_count": 2,
   "metadata": {
    "collapsed": false,
    "deletable": true,
    "editable": true
   },
   "outputs": [
    {
     "data": {
      "text/plain": [
       "1034"
      ]
     },
     "execution_count": 2,
     "metadata": {},
     "output_type": "execute_result"
    }
   ],
   "source": [
    "def parse(text):\n",
    "    \"Parse a string of numbers into a list of digits\"\n",
    "    return [int(n) for n in list(text.strip())]\n",
    "\n",
    "def captcha_n(digits, k):\n",
    "    sum = 0\n",
    "    \n",
    "    for i, n in enumerate(digits):\n",
    "        if n == digits[(i + k) % len(digits)]:\n",
    "            sum += n\n",
    "    \n",
    "    return sum\n",
    "\n",
    "def captcha(digits):\n",
    "    return captcha_n(digits, 1)\n",
    "\n",
    "assert parse(\"1234\") == [1, 2, 3, 4]\n",
    "assert captcha([1, 1, 2, 2]) == 3\n",
    "assert captcha([1, 1, 1, 1]) == 4\n",
    "assert captcha([1, 2, 3, 4]) == 0\n",
    "assert captcha([9, 1, 2, 1, 2, 1, 2, 9]) == 9\n",
    "\n",
    "captcha(parse(Input(1).read()))"
   ]
  },
  {
   "cell_type": "markdown",
   "metadata": {
    "deletable": true,
    "editable": true
   },
   "source": [
    "#### Part two\n",
    "Now, instead of considering the next digit, it wants you to consider the digit halfway around the circular list."
   ]
  },
  {
   "cell_type": "code",
   "execution_count": 3,
   "metadata": {
    "collapsed": false,
    "deletable": true,
    "editable": true
   },
   "outputs": [
    {
     "data": {
      "text/plain": [
       "1356"
      ]
     },
     "execution_count": 3,
     "metadata": {},
     "output_type": "execute_result"
    }
   ],
   "source": [
    "def captcha_halfway(digits):\n",
    "    assert len(digits) % 2 == 0\n",
    "    return captcha_n(digits, len(digits) // 2)\n",
    "\n",
    "assert captcha_halfway([1, 2, 1, 2]) == 6\n",
    "assert captcha_halfway([1, 2, 3, 4, 2, 5]) == 4\n",
    "assert captcha_halfway([1, 2, 3, 1, 2, 3]) == 12\n",
    "assert captcha_halfway([1, 2, 1, 3, 1, 4, 1, 5]) == 4\n",
    "\n",
    "captcha_halfway(parse(Input(1).read()))"
   ]
  },
  {
   "cell_type": "markdown",
   "metadata": {},
   "source": [
    "# [Day 2](http://adventofcode.com/2017/day/2): Corruption Checksum\n",
    "### Part one\n",
    "For each row, determine the difference between the largest value and the smallest value; the checksum is the sum of all of these differences."
   ]
  },
  {
   "cell_type": "code",
   "execution_count": 12,
   "metadata": {
    "collapsed": false
   },
   "outputs": [
    {
     "data": {
      "text/plain": [
       "42299"
      ]
     },
     "execution_count": 12,
     "metadata": {},
     "output_type": "execute_result"
    }
   ],
   "source": [
    "def max_range(row):\n",
    "    low = float(\"inf\")\n",
    "    high = 0\n",
    "    \n",
    "    for i in row:\n",
    "        if i < low:\n",
    "            low = i\n",
    "        if i > high:\n",
    "            high = i\n",
    "    \n",
    "    return high - low\n",
    "\n",
    "def checksum(file, row_func):\n",
    "    sum = 0\n",
    "    for row in file:\n",
    "        sum += row_func(row)\n",
    "        \n",
    "    return sum\n",
    "\n",
    "def parse(text):\n",
    "    \"Parse lines of tab separated numbers into lists of integers\"\n",
    "    res = []\n",
    "    for line in text.strip().split(\"\\n\"):\n",
    "        res.append([int(n) for n in line.split(\"\\t\")])\n",
    "    return res\n",
    "\n",
    "assert parse(\"1236\t741\t557\t1029\t144\") == [[1236, 741, 557, 1029, 144]]\n",
    "assert checksum_row([5, 1, 9, 5]) == 8\n",
    "test_input = [[5, 1, 9, 5], [7, 5, 3], [2, 4, 6, 8]]\n",
    "assert checksum(test_input, max_range) == 18\n",
    "\n",
    "checksum(parse(Input(2).read()), max_range)"
   ]
  },
  {
   "cell_type": "markdown",
   "metadata": {},
   "source": [
    "### Part two\n",
    "It sounds like the goal is to find the only two numbers in each row where one evenly divides the other - that is, where the result of the division operation is a whole number. They would like you to find those numbers on each line, divide them, and add up each line's result."
   ]
  },
  {
   "cell_type": "code",
   "execution_count": 11,
   "metadata": {
    "collapsed": false
   },
   "outputs": [
    {
     "data": {
      "text/plain": [
       "277"
      ]
     },
     "execution_count": 11,
     "metadata": {},
     "output_type": "execute_result"
    }
   ],
   "source": [
    "def quotient(row):\n",
    "    row.sort()\n",
    "    for i, n in enumerate(row):\n",
    "        for m in row[:i:-1]:\n",
    "            if m % n == 0:\n",
    "                return m // n\n",
    "\n",
    "assert checksum_row_divisor([5, 9, 2, 8]) == 4\n",
    "\n",
    "checksum(parse(Input(2).read()), quotient)"
   ]
  }
 ],
 "metadata": {
  "kernelspec": {
   "display_name": "Python 3",
   "language": "python",
   "name": "python3"
  },
  "language_info": {
   "codemirror_mode": {
    "name": "ipython",
    "version": 3
   },
   "file_extension": ".py",
   "mimetype": "text/x-python",
   "name": "python",
   "nbconvert_exporter": "python",
   "pygments_lexer": "ipython3",
   "version": "3.5.1"
  }
 },
 "nbformat": 4,
 "nbformat_minor": 2
}
