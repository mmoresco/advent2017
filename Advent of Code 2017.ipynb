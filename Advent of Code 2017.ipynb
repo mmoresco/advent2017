{
 "cells": [
  {
   "cell_type": "code",
   "execution_count": 1,
   "metadata": {
    "collapsed": true,
    "deletable": true,
    "editable": true
   },
   "outputs": [],
   "source": [
    "from itertools import count, cycle, islice\n",
    "from collections import namedtuple, defaultdict, deque\n",
    "\n",
    "def Input(day):\n",
    "    \"Open this day's input file.\"\n",
    "    filename = 'input{}.txt'.format(day)\n",
    "    try:\n",
    "        return open(filename)\n",
    "    except FileNotFoundError:\n",
    "        print(\"No input file found for day\", day)\n",
    "        \n",
    "def consume(iterator, n):\n",
    "    \"Advance the iterator n-steps ahead. If n is none, consume entirely.\"\n",
    "    # Use functions that consume iterators at C speed.\n",
    "    if n is None:\n",
    "        # feed the entire iterator into a zero-length deque\n",
    "        collections.deque(iterator, maxlen=0)\n",
    "    else:\n",
    "        # advance to the empty slice starting at position n\n",
    "        next(islice(iterator, n, n), None)"
   ]
  },
  {
   "cell_type": "markdown",
   "metadata": {
    "deletable": true,
    "editable": true
   },
   "source": [
    "# [Day 1](http://adventofcode.com/2017/day/1): Inverse Captcha\n",
    "### Part one\n",
    "Find the sum of all digits that match the next digit in the list. The list is circular, so the digit after the last digit is the first digit in the list."
   ]
  },
  {
   "cell_type": "code",
   "execution_count": 2,
   "metadata": {
    "collapsed": false,
    "deletable": true,
    "editable": true
   },
   "outputs": [
    {
     "data": {
      "text/plain": [
       "1034"
      ]
     },
     "execution_count": 2,
     "metadata": {},
     "output_type": "execute_result"
    }
   ],
   "source": [
    "def parse(text):\n",
    "    \"Parse a string of numbers into a list of digits\"\n",
    "    return [int(n) for n in list(text.strip())]\n",
    "\n",
    "def captcha_n(digits, k):\n",
    "    sum = 0\n",
    "    \n",
    "    for i, n in enumerate(digits):\n",
    "        if n == digits[(i + k) % len(digits)]:\n",
    "            sum += n\n",
    "    \n",
    "    return sum\n",
    "\n",
    "def captcha(digits):\n",
    "    return captcha_n(digits, 1)\n",
    "\n",
    "assert parse(\"1234\") == [1, 2, 3, 4]\n",
    "assert captcha([1, 1, 2, 2]) == 3\n",
    "assert captcha([1, 1, 1, 1]) == 4\n",
    "assert captcha([1, 2, 3, 4]) == 0\n",
    "assert captcha([9, 1, 2, 1, 2, 1, 2, 9]) == 9\n",
    "\n",
    "captcha(parse(Input(1).read()))"
   ]
  },
  {
   "cell_type": "markdown",
   "metadata": {
    "deletable": true,
    "editable": true
   },
   "source": [
    "#### Part two\n",
    "Now, instead of considering the next digit, it wants you to consider the digit halfway around the circular list."
   ]
  },
  {
   "cell_type": "code",
   "execution_count": 3,
   "metadata": {
    "collapsed": false,
    "deletable": true,
    "editable": true
   },
   "outputs": [
    {
     "data": {
      "text/plain": [
       "1356"
      ]
     },
     "execution_count": 3,
     "metadata": {},
     "output_type": "execute_result"
    }
   ],
   "source": [
    "def captcha_halfway(digits):\n",
    "    assert len(digits) % 2 == 0\n",
    "    return captcha_n(digits, len(digits) // 2)\n",
    "\n",
    "assert captcha_halfway([1, 2, 1, 2]) == 6\n",
    "assert captcha_halfway([1, 2, 3, 4, 2, 5]) == 4\n",
    "assert captcha_halfway([1, 2, 3, 1, 2, 3]) == 12\n",
    "assert captcha_halfway([1, 2, 1, 3, 1, 4, 1, 5]) == 4\n",
    "\n",
    "captcha_halfway(parse(Input(1).read()))"
   ]
  },
  {
   "cell_type": "markdown",
   "metadata": {
    "deletable": true,
    "editable": true
   },
   "source": [
    "# [Day 2](http://adventofcode.com/2017/day/2): Corruption Checksum\n",
    "### Part one\n",
    "For each row, determine the difference between the largest value and the smallest value; the checksum is the sum of all of these differences."
   ]
  },
  {
   "cell_type": "code",
   "execution_count": 4,
   "metadata": {
    "collapsed": false,
    "deletable": true,
    "editable": true
   },
   "outputs": [
    {
     "data": {
      "text/plain": [
       "42299"
      ]
     },
     "execution_count": 4,
     "metadata": {},
     "output_type": "execute_result"
    }
   ],
   "source": [
    "def max_range(row):\n",
    "    low = float(\"inf\")\n",
    "    high = 0\n",
    "    \n",
    "    for i in row:\n",
    "        if i < low:\n",
    "            low = i\n",
    "        if i > high:\n",
    "            high = i\n",
    "    \n",
    "    return high - low\n",
    "\n",
    "def checksum(file, row_func):\n",
    "    sum = 0\n",
    "    for row in file:\n",
    "        sum += row_func(row)\n",
    "        \n",
    "    return sum\n",
    "\n",
    "def parse(text):\n",
    "    \"Parse lines of tab separated numbers into lists of integers\"\n",
    "    res = []\n",
    "    for line in text.strip().split(\"\\n\"):\n",
    "        res.append([int(n) for n in line.split(\"\\t\")])\n",
    "    return res\n",
    "\n",
    "assert parse(\"1236\t741\t557\t1029\t144\") == [[1236, 741, 557, 1029, 144]]\n",
    "test_input = [[5, 1, 9, 5], [7, 5, 3], [2, 4, 6, 8]]\n",
    "assert checksum(test_input, max_range) == 18\n",
    "\n",
    "checksum(parse(Input(2).read()), max_range)"
   ]
  },
  {
   "cell_type": "markdown",
   "metadata": {
    "deletable": true,
    "editable": true
   },
   "source": [
    "### Part two\n",
    "It sounds like the goal is to find the only two numbers in each row where one evenly divides the other - that is, where the result of the division operation is a whole number. They would like you to find those numbers on each line, divide them, and add up each line's result."
   ]
  },
  {
   "cell_type": "code",
   "execution_count": 5,
   "metadata": {
    "collapsed": false,
    "deletable": true,
    "editable": true
   },
   "outputs": [
    {
     "data": {
      "text/plain": [
       "277"
      ]
     },
     "execution_count": 5,
     "metadata": {},
     "output_type": "execute_result"
    }
   ],
   "source": [
    "def quotient(row):\n",
    "    row.sort()\n",
    "    for i, n in enumerate(row):\n",
    "        for m in row[:i:-1]:\n",
    "            if m % n == 0:\n",
    "                return m // n\n",
    "\n",
    "assert checksum([[5, 9, 2, 8]], quotient) == 4\n",
    "\n",
    "checksum(parse(Input(2).read()), quotient)"
   ]
  },
  {
   "cell_type": "markdown",
   "metadata": {
    "deletable": true,
    "editable": true
   },
   "source": [
    "# [Day 3](http://adventofcode.com/2017/day/3): Spiral Memory\n",
    "### Part one\n",
    "\n",
    "You come across an experimental new kind of memory stored on an infinite two-dimensional grid.\n",
    "\n",
    "Each square on the grid is allocated in a spiral pattern starting at a location marked 1 and then counting up while spiraling outward. For example, the first few squares are allocated like this:\n",
    "\n",
    "```\n",
    "17  16  15  14  13\n",
    "18   5   4   3  12\n",
    "19   6   1   2  11\n",
    "20   7   8   9  10\n",
    "21  22  23---> ...\n",
    "```\n",
    "While this is very space-efficient (no squares are skipped), requested data must be carried back to square 1 (the location of the only access port for this memory system) by programs that can only move up, down, left, or right. They always take the shortest path: the Manhattan Distance between the location of the data and square 1.\n",
    "\n",
    "For example:\n",
    "\n",
    "Data from square 1 is carried 0 steps, since it's at the access port.\n",
    "Data from square 12 is carried 3 steps, such as: down, left, left.\n",
    "Data from square 23 is carried only 2 steps: up twice.\n",
    "Data from square 1024 must be carried 31 steps.\n",
    "How many steps are required to carry the data from the square identified in your puzzle input all the way to the access port?\n",
    "\n",
    "---\n",
    "\n",
    "So, I could either build out the entire spiral and walk it to find the result, _or_ I could just do some math. We could find the corner nearest to our destination, and easily compute how many steps away that is from the center. It's then easy to see how many steps the corner is from our destination. In other words, \n",
    "``` \n",
    "distance(center, destination) == distance(center, nearest_corner) - distance(nearest_corner, destination)\n",
    "```\n",
    "Math sounds faster. "
   ]
  },
  {
   "cell_type": "code",
   "execution_count": 6,
   "metadata": {
    "collapsed": false,
    "deletable": true,
    "editable": true
   },
   "outputs": [
    {
     "name": "stdout",
     "output_type": "stream",
     "text": [
      "438\n"
     ]
    }
   ],
   "source": [
    "def center_distance(n):\n",
    "    \"Given a number, return its distance from the center of the spiral map\"\n",
    "    box_height = 1\n",
    "    x = 0\n",
    "    \n",
    "    # Find box height\n",
    "    while x < n:\n",
    "        box_height += 2\n",
    "        x = box_height * box_height\n",
    "    \n",
    "    # Find nearest corner\n",
    "    corner = x\n",
    "    while corner > n:\n",
    "        corner -= box_height - 1\n",
    "    \n",
    "    if n - corner > corner + (box_height - 1) - n:\n",
    "        corner = corner + (box_height - 1)\n",
    "    \n",
    "    # Distance from center to nearest corner - distance from nearest corner to point\n",
    "    diag = (box_height // 2) * 2\n",
    "    print(diag - abs(corner - n))\n",
    "\n",
    "center_distance(265149)\n"
   ]
  },
  {
   "cell_type": "markdown",
   "metadata": {
    "deletable": true,
    "editable": true
   },
   "source": [
    "### Part 2\n",
    "As a stress test on the system, the programs here clear the grid and then store the value 1 in square 1. Then, in the same allocation order as shown above, they store the sum of the values in all adjacent squares, including diagonals.\n",
    "\n",
    "So, the first few squares' values are chosen as follows:\n",
    "\n",
    "Square 1 starts with the value 1.\n",
    "Square 2 has only one adjacent filled square (with value 1), so it also stores 1.\n",
    "Square 3 has both of the above squares as neighbors and stores the sum of their values, 2.\n",
    "Square 4 has all three of the aforementioned squares as neighbors and stores the sum of their values, 4.\n",
    "Square 5 only has the first and fourth squares as neighbors, so it gets the value 5.\n",
    "Once a square is written, its value does not change. Therefore, the first few squares would receive the following values:\n",
    "\n",
    "```\n",
    "147  142  133  122   59\n",
    "304    5    4    2   57\n",
    "330   10    1    1   54\n",
    "351   11   23   25   26\n",
    "362  747  806--->   ...\n",
    "```\n",
    "What is the first value written that is larger than your puzzle input?\n",
    "\n",
    "---\n",
    "\n",
    "Whoops, should have built the spiral."
   ]
  },
  {
   "cell_type": "code",
   "execution_count": 7,
   "metadata": {
    "collapsed": false,
    "deletable": true,
    "editable": true
   },
   "outputs": [
    {
     "data": {
      "text/plain": [
       "266330"
      ]
     },
     "execution_count": 7,
     "metadata": {},
     "output_type": "execute_result"
    }
   ],
   "source": [
    "class SpiralLocation:\n",
    "    def __init__(self):\n",
    "        self.x = 0\n",
    "        self.y = 0\n",
    "        self.value = 1\n",
    "\n",
    "def get_neighbors(x, y):\n",
    "    return ((x+1, y), (x-1, y), (x, y+1), (x, y-1),\n",
    "            (x+1, y+1), (x-1, y-1), (x+1, y-1), (x-1, y+1))\n",
    "        \n",
    "def spiral(end, cell_func):\n",
    "    \"Build a spiraled map from 1..end, setting the value at each cell with cell_func\"\n",
    "    loc = SpiralLocation()\n",
    "    width = 1   \n",
    "    spiral = {(loc.x, loc.y): loc.value}\n",
    "\n",
    "    down = lambda x: x - 1\n",
    "    up = lambda x: x + 1\n",
    "    \n",
    "    def spiral_side(axis, direction):\n",
    "        corner = max_coord if direction == up else -max_coord\n",
    "        current = getattr(loc, axis)\n",
    "\n",
    "        while current != corner:\n",
    "            setattr(loc, axis, direction(current))\n",
    "            loc.value = cell_func(loc, spiral)\n",
    "            spiral[(loc.x, loc.y)] = loc.value\n",
    "            if loc.value >= end:\n",
    "                return True\n",
    "            current = getattr(loc, axis)\n",
    "        return False\n",
    "        \n",
    "    while loc.value < end:\n",
    "        width += 2\n",
    "        max_coord = width // 2\n",
    "        \n",
    "        if spiral_side(\"x\", up):\n",
    "            return spiral\n",
    "        if spiral_side(\"y\", up):\n",
    "            return spiral\n",
    "        if spiral_side(\"x\", down):\n",
    "            return spiral\n",
    "        if spiral_side(\"y\", down):\n",
    "            return spiral\n",
    "        if spiral_side(\"x\", up):\n",
    "            return spiral\n",
    "            \n",
    "    return spiral\n",
    "\n",
    "def neighbor_sum(loc, spiral):\n",
    "    res = 0\n",
    "    neighbor_coords = get_neighbors(loc.x, loc.y)\n",
    "    for n in neighbor_coords:\n",
    "        value = spiral.get(n)\n",
    "        if value:\n",
    "            res += value\n",
    "\n",
    "    return res\n",
    " \n",
    "res = spiral(25, lambda loc, spiral: loc.value + 1)\n",
    "assert res[(0, 2)] == 15\n",
    "assert res[(0, 0)] == 1\n",
    "assert res[(2, -2)] == 25\n",
    "assert res[(-1, 0)] == 6\n",
    "\n",
    "test_spiral = {(0, 1): 4, (-1, 1): 5, (0, 0): 1, (-1, 0): 6, (-1, -1): 7, (0, -1): 8, (1, 0): 2, (1, -1): 9, (1, 1): 3}\n",
    "test_loc = SpiralLocation()\n",
    "test_loc.x = -1\n",
    "test_loc.y = 0\n",
    "assert neighbor_sum(test_loc, test_spiral) == 25\n",
    "\n",
    "neighbor_spiral = spiral(750, neighbor_sum)\n",
    "assert sorted(list(neighbor_spiral.values()))[-1] == 806\n",
    "\n",
    "neighbor_spiral = spiral(265149, neighbor_sum)\n",
    "sorted(list(neighbor_spiral.values()))[-1]"
   ]
  },
  {
   "cell_type": "markdown",
   "metadata": {
    "collapsed": false,
    "deletable": true,
    "editable": true
   },
   "source": [
    "# [Day 4](http://adventofcode.com/2017/day/4): High-Entropy Passphrases\n",
    "\n",
    "### Part one\n",
    "A new system policy has been put in place that requires all accounts to use a passphrase instead of simply a password. A passphrase consists of a series of words (lowercase letters) separated by spaces.\n",
    "\n",
    "To ensure security, a valid passphrase must contain no duplicate words.\n",
    "\n",
    "For example:\n",
    "```\n",
    "aa bb cc dd ee is valid.\n",
    "aa bb cc dd aa is not valid - the word aa appears more than once.\n",
    "aa bb cc dd aaa is valid - aa and aaa count as different words.\n",
    "```\n",
    "The system's full passphrase list is available as your puzzle input. How many passphrases are valid?"
   ]
  },
  {
   "cell_type": "code",
   "execution_count": 8,
   "metadata": {
    "collapsed": false,
    "deletable": true,
    "editable": true
   },
   "outputs": [
    {
     "data": {
      "text/plain": [
       "383"
      ]
     },
     "execution_count": 8,
     "metadata": {},
     "output_type": "execute_result"
    }
   ],
   "source": [
    "def no_dupes(words):\n",
    "    return len(words) - len(set(words)) == 0\n",
    "\n",
    "def parse_words(text):\n",
    "    return text.split(\" \")\n",
    "\n",
    "def valid_passphrase_count(lines, filter_func):\n",
    "    parsed_lines = map(parse_words, lines)\n",
    "    return len(list(filter(filter_func, parsed_lines)))\n",
    "\n",
    "\n",
    "assert no_dupes([\"aa\", \"bb\", \"cc\", \"dd\", \"ee\"]) == True\n",
    "assert no_dupes([\"aa\", \"bb\", \"cc\", \"dd\", \"aa\"]) == False\n",
    "assert no_dupes([\"aa\", \"bb\", \"cc\", \"dd\", \"aaa\"]) == True\n",
    "assert parse_words(\"aa bb cc\") == [\"aa\", \"bb\", \"cc\"]\n",
    "\n",
    "valid_passphrase_count(Input(4).read().splitlines(), no_dupes)"
   ]
  },
  {
   "cell_type": "markdown",
   "metadata": {
    "deletable": true,
    "editable": true
   },
   "source": [
    "### Part two\n",
    "For added security, yet another system policy has been put in place. Now, a valid passphrase must contain no two words that are anagrams of each other - that is, a passphrase is invalid if any word's letters can be rearranged to form any other word in the passphrase.\n",
    "\n",
    "For example:\n",
    "```\n",
    "abcde fghij is a valid passphrase.\n",
    "abcde xyz ecdab is not valid - the letters from the third word can be rearranged to form the first word.\n",
    "a ab abc abd abf abj is a valid passphrase, because all letters need to be used when forming another word.\n",
    "iiii oiii ooii oooi oooo is valid.\n",
    "oiii ioii iioi iiio is not valid - any of these words can be rearranged to form any other word.\n",
    "```\n",
    "Under this new system policy, how many passphrases are valid?"
   ]
  },
  {
   "cell_type": "code",
   "execution_count": 9,
   "metadata": {
    "collapsed": false,
    "deletable": true,
    "editable": true
   },
   "outputs": [
    {
     "data": {
      "text/plain": [
       "265"
      ]
     },
     "execution_count": 9,
     "metadata": {},
     "output_type": "execute_result"
    }
   ],
   "source": [
    "def no_anagrams(words):\n",
    "    sorted_words = [''.join(s) for s in list(map(sorted, words))]\n",
    "    return no_dupes(sorted_words)\n",
    "\n",
    "assert no_anagrams([\"cat\", \"act\"]) == False\n",
    "valid_passphrase_count(Input(4).read().splitlines(), no_anagrams)"
   ]
  },
  {
   "cell_type": "markdown",
   "metadata": {
    "deletable": true,
    "editable": true
   },
   "source": [
    "# [Day 5](http://adventofcode.com/2017/day/5): A Maze of Twisty Trampolines, All Alike\n",
    "\n",
    "### Part one\n",
    "An urgent interrupt arrives from the CPU: it's trapped in a maze of jump instructions, and it would like assistance from any programs with spare cycles to help find the exit.\n",
    "\n",
    "The message includes a list of the offsets for each jump. Jumps are relative: -1 moves to the previous instruction, and 2 skips the next one. Start at the first instruction in the list. The goal is to follow the jumps until one leads outside the list.\n",
    "\n",
    "In addition, these instructions are a little strange; after each jump, the offset of that instruction increases by 1. So, if you come across an offset of 3, you would move three instructions forward, but change it to a 4 for the next time it is encountered.\n",
    "\n",
    "For example, consider the following list of jump offsets:\n",
    "\n",
    "```\n",
    "0\n",
    "3\n",
    "0\n",
    "1\n",
    "-3\n",
    "```\n",
    "Positive jumps (\"forward\") move downward; negative jumps move upward. For legibility in this example, these offset values will be written all on one line, with the current instruction marked in parentheses. The following steps would be taken before an exit is found:\n",
    "\n",
    "```\n",
    "(0) 3  0  1  -3  - before we have taken any steps.\n",
    "(1) 3  0  1  -3  - jump with offset 0 (that is, don't jump at all). Fortunately, the instruction is then incremented to 1.\n",
    " 2 (3) 0  1  -3  - step forward because of the instruction we just modified. The first instruction is incremented again, now to 2.\n",
    " 2  4  0  1 (-3) - jump all the way to the end; leave a 4 behind.\n",
    " 2 (4) 0  1  -2  - go back to where we just were; increment -3 to -2.\n",
    " 2  5  0  1  -2  - jump 4 steps forward, escaping the maze.\n",
    " ```\n",
    "In this example, the exit is reached in 5 steps.\n",
    "\n",
    "How many steps does it take to reach the exit?"
   ]
  },
  {
   "cell_type": "code",
   "execution_count": 10,
   "metadata": {
    "collapsed": false,
    "deletable": true,
    "editable": true
   },
   "outputs": [
    {
     "data": {
      "text/plain": [
       "351282"
      ]
     },
     "execution_count": 10,
     "metadata": {},
     "output_type": "execute_result"
    }
   ],
   "source": [
    "part_one = lambda x: x + 1\n",
    "\n",
    "def trampoline(jumps, rule):\n",
    "    loc = 0\n",
    "    jump_count = 0\n",
    "    while True:\n",
    "        # index of next hop\n",
    "        move = loc + jumps[loc]\n",
    "        if move < 0 or move >= len(jumps):\n",
    "            return jump_count + 1\n",
    "        jumps[loc] = rule(jumps[loc])\n",
    "        jump_count += 1\n",
    "        loc = move\n",
    "\n",
    "assert trampoline([0, 3, 0, 1, -3], part_one) == 5\n",
    "trampoline([int(n) for n in Input(5).readlines()], part_one)"
   ]
  },
  {
   "cell_type": "markdown",
   "metadata": {
    "deletable": true,
    "editable": true
   },
   "source": [
    "Now, the jumps are even stranger: after each jump, if the offset was three or more, instead decrease it by 1. Otherwise, increase it by 1 as before.\n",
    "\n",
    "Using this rule with the above example, the process now takes 10 steps, and the offset values after finding the exit are left as 2 3 2 3 -1.\n",
    "\n",
    "How many steps does it now take to reach the exit?"
   ]
  },
  {
   "cell_type": "code",
   "execution_count": 11,
   "metadata": {
    "collapsed": false,
    "deletable": true,
    "editable": true
   },
   "outputs": [
    {
     "data": {
      "text/plain": [
       "24568703"
      ]
     },
     "execution_count": 11,
     "metadata": {},
     "output_type": "execute_result"
    }
   ],
   "source": [
    "part_two = lambda x: x - 1 if x > 2 else x + 1\n",
    "assert trampoline([0, 3, 0, 1, -3], part_two) == 10\n",
    "trampoline([int(n) for n in Input(5).readlines()], part_two)"
   ]
  },
  {
   "cell_type": "markdown",
   "metadata": {
    "deletable": true,
    "editable": true
   },
   "source": [
    "# [Day 6](http://adventofcode.com/2017/day/6): Memory Reallocation\n",
    "\n",
    "### Part one\n",
    "\n",
    "A debugger program here is having an issue: it is trying to repair a memory reallocation routine, but it keeps getting stuck in an infinite loop.\n",
    "\n",
    "In this area, there are sixteen memory banks; each memory bank can hold any number of blocks. The goal of the reallocation routine is to balance the blocks between the memory banks.\n",
    "\n",
    "The reallocation routine operates in cycles. In each cycle, it finds the memory bank with the most blocks (ties won by the lowest-numbered memory bank) and redistributes those blocks among the banks. To do this, it removes all of the blocks from the selected bank, then moves to the next (by index) memory bank and inserts one of the blocks. It continues doing this until it runs out of blocks; if it reaches the last memory bank, it wraps around to the first one.\n",
    "\n",
    "The debugger would like to know how many redistributions can be done before a blocks-in-banks configuration is produced that has been seen before.\n",
    "\n",
    "For example, imagine a scenario with only four memory banks:\n",
    "\n",
    "- The banks start with 0, 2, 7, and 0 blocks. \n",
    "- The third bank has the most blocks, so it is chosen for redistribution.\n",
    "- Starting with the next bank (the fourth bank) and then continuing to the first bank, the second bank, and so on, the 7 blocks are spread out over the memory banks. The fourth, first, and second banks get two blocks each, and the third bank gets one back. The final result looks like this: 2 4 1 2.\n",
    "- Next, the second bank is chosen because it contains the most blocks (four). Because there are four memory banks, each gets one block. The result is: 3 1 2 3.\n",
    "- Now, there is a tie between the first and fourth memory banks, both of which have three blocks. The first bank wins the tie, and its three blocks are distributed evenly over the other three banks, leaving it with none: 0 2 3 4.\n",
    "- The fourth bank is chosen, and its four blocks are distributed such that each of the four banks receives one: 1 3 4 1.\n",
    " -The third bank is chosen, and the same thing happens: 2 4 1 2.\n",
    " -At this point, we've reached a state we've seen before: 2 4 1 2 was already seen. The infinite loop is detected after the fifth block redistribution cycle, and so the answer in this example is 5.\n",
    "\n",
    "Given the initial block counts in your puzzle input, how many redistribution cycles must be completed before a configuration is produced that has been seen before?"
   ]
  },
  {
   "cell_type": "code",
   "execution_count": 12,
   "metadata": {
    "collapsed": false,
    "deletable": true,
    "editable": true
   },
   "outputs": [
    {
     "data": {
      "text/plain": [
       "7864"
      ]
     },
     "execution_count": 12,
     "metadata": {},
     "output_type": "execute_result"
    }
   ],
   "source": [
    "INPUT = \"0\t5\t10\t0\t11\t14\t13\t4\t11\t8\t8\t7\t1\t4\t12\t11\"\n",
    "\n",
    "def redistribute(banks):\n",
    "    block_count = max(banks)\n",
    "    loc = banks.index(block_count)\n",
    "    banks[loc] = 0\n",
    "    \n",
    "    while block_count > 0:\n",
    "        loc = (loc + 1) % len(banks)\n",
    "        banks[loc] += 1\n",
    "        block_count -= 1\n",
    "\n",
    "b = [0, 2, 7, 0]\n",
    "redistribute(b)\n",
    "assert b == [2, 4, 1, 2]\n",
    "\n",
    "def find_loop(banks):\n",
    "    seen_configs = set()\n",
    "    cycles = 0\n",
    "    \n",
    "    while True:\n",
    "        config = \".\".join([str(n) for n in banks])\n",
    "        if config in seen_configs:\n",
    "            return cycles\n",
    "        seen_configs.add(config)\n",
    "        redistribute(banks)\n",
    "        cycles += 1\n",
    "    \n",
    "assert find_loop([0, 2, 7, 0]) == 5\n",
    "\n",
    "find_loop([int(n) for n in INPUT.split(\"\t\")])"
   ]
  },
  {
   "cell_type": "markdown",
   "metadata": {
    "deletable": true,
    "editable": true
   },
   "source": [
    "### Part two\n",
    "\n",
    "Out of curiosity, the debugger would also like to know the size of the loop: starting from a state that has already been seen, how many block redistribution cycles must be performed before that same state is seen again?\n",
    "\n",
    "In the example above, 2 4 1 2 is seen again after four cycles, and so the answer in that example would be 4.\n",
    "\n",
    "How many cycles are in the infinite loop that arises from the configuration in your puzzle input?"
   ]
  },
  {
   "cell_type": "code",
   "execution_count": 13,
   "metadata": {
    "collapsed": false,
    "deletable": true,
    "editable": true
   },
   "outputs": [
    {
     "data": {
      "text/plain": [
       "1695"
      ]
     },
     "execution_count": 13,
     "metadata": {},
     "output_type": "execute_result"
    }
   ],
   "source": [
    "def find_loop_size(banks):\n",
    "    seen_configs = {}\n",
    "    cycles = 0\n",
    "    \n",
    "    while True:\n",
    "        config = \".\".join([str(n) for n in banks])\n",
    "        if config in seen_configs:\n",
    "            return cycles - seen_configs[config]\n",
    "        seen_configs[config] = cycles\n",
    "        redistribute(banks)\n",
    "        cycles += 1\n",
    "\n",
    "assert find_loop_size([0, 2, 7, 0]) == 4\n",
    "find_loop_size([int(n) for n in INPUT.split(\"\t\")])"
   ]
  },
  {
   "cell_type": "markdown",
   "metadata": {
    "deletable": true,
    "editable": true
   },
   "source": [
    "# [Day 7](http://adventofcode.com/2017/day/7): Recursive Circus\n",
    "\n",
    "### Part one"
   ]
  },
  {
   "cell_type": "code",
   "execution_count": 14,
   "metadata": {
    "collapsed": false,
    "deletable": true,
    "editable": true
   },
   "outputs": [
    {
     "data": {
      "text/plain": [
       "'vmpywg'"
      ]
     },
     "execution_count": 14,
     "metadata": {},
     "output_type": "execute_result"
    }
   ],
   "source": [
    "test_input = \"\"\"pbga (66)\n",
    "xhth (57)\n",
    "ebii (61)\n",
    "havc (66)\n",
    "ktlj (57)\n",
    "fwft (72) -> ktlj, cntj, xhth\n",
    "qoyq (66)\n",
    "padx (45) -> pbga, havc, qoyq\n",
    "tknk (41) -> ugml, padx, fwft\n",
    "jptl (61)\n",
    "ugml (68) -> gyxo, ebii, jptl\n",
    "gyxo (61)\n",
    "cntj (57)\"\"\"\n",
    "\n",
    "class Disc:\n",
    "    def __init__(self, name, weight, children):\n",
    "        self.name = name\n",
    "        self.weight = weight\n",
    "        self.children = children\n",
    "        self.original_weight = weight\n",
    "\n",
    "def parse_disc(text):\n",
    "    parts = text.strip().split(\" \")\n",
    "    name, weight, *_ = parts\n",
    "    weight = int(weight[1:-1])\n",
    "    children = [child.strip(',') for child in parts[3:]]\n",
    "    return Disc(name, weight, children)\n",
    "\n",
    "test_disc = parse_disc(test_input.split(\"\\n\")[7])\n",
    "assert test_disc.name == 'padx'\n",
    "assert test_disc.weight == 45\n",
    "assert test_disc.children == ['pbga', 'havc', 'qoyq']\n",
    "\n",
    "def find_root(discs):\n",
    "    disc_names = {disc.name for disc in discs}\n",
    "    children = {child for disc in discs for child in disc.children}\n",
    "    return disc_names.difference(children).pop()\n",
    "    \n",
    "test_discs = [parse_disc(t) for t in test_input.split(\"\\n\")]\n",
    "assert find_root(test_discs) == 'tknk'\n",
    "\n",
    "discs = [parse_disc(t) for t in Input(7).readlines()]\n",
    "find_root(discs)"
   ]
  },
  {
   "cell_type": "markdown",
   "metadata": {
    "deletable": true,
    "editable": true
   },
   "source": [
    "### Part two"
   ]
  },
  {
   "cell_type": "code",
   "execution_count": 15,
   "metadata": {
    "collapsed": false,
    "deletable": true,
    "editable": true
   },
   "outputs": [
    {
     "name": "stdout",
     "output_type": "stream",
     "text": [
      "1674\n"
     ]
    }
   ],
   "source": [
    "def build_tree(root, discs):\n",
    "    root.children = [discs[name] for name in root.children]\n",
    "    for child in root.children:\n",
    "        build_tree(child, discs)\n",
    "\n",
    "def parse_discs(text):\n",
    "    discs = [parse_disc(t) for t in text.split(\"\\n\")]\n",
    "    root = find_root(discs)\n",
    "    disc_map = {disc.name: disc for disc in discs}\n",
    "    build_tree(disc_map[root], disc_map)\n",
    "    return disc_map[root]\n",
    "\n",
    "def build_weights(root, path=[]):\n",
    "    path.append(root)\n",
    "    for child in root.children:\n",
    "        for node in path:\n",
    "            node.weight += child.weight\n",
    "        build_weights(child)\n",
    "    path.pop()\n",
    "        \n",
    "root = parse_discs(test_input)\n",
    "build_weights(root)\n",
    "assert root.weight == 778\n",
    "assert root.children[0].weight == 251\n",
    "assert root.children[1].weight == 243\n",
    "assert root.children[0].children[0].weight == 61    \n",
    "    \n",
    "def correct_wrong(weighted_root):\n",
    "    weights = {}\n",
    "    for child in weighted_root.children:\n",
    "        if weights.get(child.weight):\n",
    "            weights[child.weight].append(child)\n",
    "        else:\n",
    "            weights[child.weight] = [child]\n",
    "\n",
    "    outlier = None\n",
    "    for groups in weights.values():\n",
    "        if len(groups) == 1:\n",
    "            outlier = groups[0]\n",
    "        else:\n",
    "            matching = groups[0]\n",
    "            \n",
    "    if len(set(c.weight for c in outlier.children)) == 1:\n",
    "        return outlier.original_weight - (outlier.weight - matching.weight)\n",
    "    else:\n",
    "        return correct_wrong(outlier)\n",
    "\n",
    "assert correct_wrong(root) == 60\n",
    "\n",
    "root = parse_discs(Input(7).read().strip())\n",
    "build_weights(root)\n",
    "print(correct_wrong(root))"
   ]
  },
  {
   "cell_type": "markdown",
   "metadata": {
    "collapsed": true,
    "deletable": true,
    "editable": true
   },
   "source": [
    "# [Day 8](http://adventofcode.com/2017/day/8): I Heard You Like Registers\n",
    "\n",
    "Using Python for this feels like cheating..."
   ]
  },
  {
   "cell_type": "code",
   "execution_count": 16,
   "metadata": {
    "collapsed": false,
    "deletable": true,
    "editable": true
   },
   "outputs": [
    {
     "data": {
      "text/plain": [
       "(4647, 5590)"
      ]
     },
     "execution_count": 16,
     "metadata": {},
     "output_type": "execute_result"
    }
   ],
   "source": [
    "test_input = \"\"\"b inc 5 if a > 1\n",
    "a inc 1 if b < 5\n",
    "c dec -10 if a >= 1\n",
    "c inc -20 if c == 10\"\"\"\n",
    "\n",
    "operation = {\n",
    "    \"inc\": lambda x, y: x + y,\n",
    "    \"dec\": lambda x, y: x - y\n",
    "}\n",
    "\n",
    "condition = {\n",
    "    \">\": lambda x, y: x > y,\n",
    "    \"<\": lambda x, y: x < y,\n",
    "    \">=\": lambda x, y: x >= y,\n",
    "    \"<=\": lambda x, y: x <= y,\n",
    "    \"==\": lambda x, y: x == y,\n",
    "    \"!=\": lambda x, y: x != y\n",
    "}\n",
    "\n",
    "def parse_reg(line, regs):\n",
    "    target, symbol, amount, _, cond_target, cond_symbol, cond_amount = line.split()\n",
    "    ret = 0\n",
    "    if condition[cond_symbol](regs[cond_target], int(cond_amount)):\n",
    "        regs[target] = operation[symbol](regs[target], int(amount))\n",
    "        ret = regs[target]\n",
    "    return ret\n",
    "\n",
    "def max_reg(text):\n",
    "    historical_max = 0\n",
    "    regs = defaultdict(int)\n",
    "    for line in text.splitlines():\n",
    "        historical_max = max(historical_max, parse_reg(line, regs))\n",
    "    return max(regs.values()), historical_max\n",
    "\n",
    "assert max_reg(test_input) == (1, 10)\n",
    "\n",
    "max_reg(Input(8).read())"
   ]
  },
  {
   "cell_type": "markdown",
   "metadata": {
    "collapsed": false,
    "deletable": true,
    "editable": true,
    "scrolled": false
   },
   "source": [
    "# [Day 9](http://adventofcode.com/2017/day/9): Stream Processing\n",
    "\n",
    "Today was my first time being bitten by mutable default args 😱\n",
    "\n",
    "I thought building a tree of the input might be useful for whatever Part 2 would entail, but that would up being straightforward."
   ]
  },
  {
   "cell_type": "code",
   "execution_count": 17,
   "metadata": {
    "collapsed": false,
    "deletable": true,
    "editable": true
   },
   "outputs": [
    {
     "data": {
      "text/plain": [
       "12803"
      ]
     },
     "execution_count": 17,
     "metadata": {},
     "output_type": "execute_result"
    }
   ],
   "source": [
    "class Node:\n",
    "    def __init__(self, depth):\n",
    "        self.depth = depth\n",
    "        self.children = []\n",
    "        \n",
    "def parse_garbage(it):\n",
    "    count = 0\n",
    "    for c in it:\n",
    "        if c == '>':\n",
    "            return count\n",
    "        if c == '!':\n",
    "            next(it)\n",
    "            continue\n",
    "        count += 1\n",
    "\n",
    "def parse_stream(it, root=None):\n",
    "    if root == None:\n",
    "        root = Node(0)\n",
    "    for c in it:\n",
    "        if c == '<':\n",
    "            parse_garbage(it)\n",
    "        elif c == '{':\n",
    "            root.children.append(parse_stream(it, Node(root.depth + 1)))\n",
    "        elif c == '}':\n",
    "            return root\n",
    "            \n",
    "    return root\n",
    "        \n",
    "def walk_tree(root):\n",
    "    score = 0\n",
    "    nodes = deque([root])\n",
    "    while nodes:\n",
    "        node = nodes.popleft()\n",
    "        score += node.depth\n",
    "        for child in node.children:\n",
    "            nodes.append(child)\n",
    "    return score\n",
    "\n",
    "def find_score(text):\n",
    "    return walk_tree(parse_stream(iter(text)))\n",
    "\n",
    "assert find_score(\"{}\") == 1\n",
    "assert find_score(\"{{{}}}\") == 6\n",
    "assert find_score(\"{{},{}}\") == 5\n",
    "assert find_score(\"{{{},{},{{}}}}\") == 16.\n",
    "assert find_score(\"{<a>,<a>,<a>,<a>}\") == 1\n",
    "assert find_score(\"{{<ab>},{<ab>},{<ab>},{<ab>}}\") == 9\n",
    "assert find_score(\"{{<!!>},{<!!>},{<!!>},{<!!>}}\") == 9\n",
    "assert find_score(\"{{<a!>},{<a!>},{<a!>},{<ab>}}\") == 3\n",
    "\n",
    "find_score(Input(9).read())"
   ]
  },
  {
   "cell_type": "code",
   "execution_count": 18,
   "metadata": {
    "collapsed": false,
    "deletable": true,
    "editable": true
   },
   "outputs": [
    {
     "data": {
      "text/plain": [
       "6425"
      ]
     },
     "execution_count": 18,
     "metadata": {},
     "output_type": "execute_result"
    }
   ],
   "source": [
    "def count_garbage(it):\n",
    "    count = 0\n",
    "    for c in it:\n",
    "        if c == '<':\n",
    "            count += parse_garbage(it)\n",
    "    return count\n",
    "\n",
    "assert count_garbage(iter('<{o\"i!a,<{i<a>')) == 10\n",
    "\n",
    "count_garbage(iter(Input(9).read()))"
   ]
  },
  {
   "cell_type": "markdown",
   "metadata": {},
   "source": [
    "# [Day 10](http://adventofcode.com/2017/day/9): Knot hash\n",
    "\n",
    "In hindsight, itertools.cycle would have been real useful here."
   ]
  },
  {
   "cell_type": "code",
   "execution_count": 110,
   "metadata": {
    "collapsed": false
   },
   "outputs": [
    {
     "data": {
      "text/plain": [
       "826"
      ]
     },
     "execution_count": 110,
     "metadata": {},
     "output_type": "execute_result"
    }
   ],
   "source": [
    "INPUT = [120,93,0,90,5,80,129,74,1,165,204,255,254,2,50,113]\n",
    "\n",
    "def ring_get(ring, n, i):\n",
    "    \"Get n elements from the ring starting at index i\"\n",
    "    to_end = ring[i:min(n + i, len(ring))]\n",
    "    wrap = ring[:n - len(to_end)]\n",
    "    return to_end + wrap\n",
    "    \n",
    "def ring_put(ring, elements, i):\n",
    "    \"Insert elements in ring, starting at index i\"\n",
    "    for j, e in enumerate(elements):\n",
    "        idx = (i + j) % len(ring)\n",
    "        ring[idx] = e\n",
    "    return ring\n",
    "    \n",
    "def list_gen(n):\n",
    "    \"Generate a list of numbers from 0..n\"\n",
    "    return [i for i in range(n + 1)]\n",
    "\n",
    "def twist(ring, length, i):\n",
    "    to_reverse = ring_get(ring, length, i)\n",
    "    to_reverse.reverse()\n",
    "    ring_put(ring, to_reverse, i)\n",
    "    return ring\n",
    "    \n",
    "def do_twists(ring, lengths, pos=0, skip_size=0):\n",
    "    for l in lengths:\n",
    "        twist(ring, l, pos)\n",
    "        pos = (pos + l + skip_size) % len(ring)\n",
    "        skip_size += 1\n",
    "    return (ring, pos, skip_size)\n",
    "    \n",
    "l = [1, 2, 3, 4]\n",
    "assert ring_get(l, 4, 2) == [3, 4, 1, 2]\n",
    "assert ring_put(l, [6, 7, 8], 2) == [8, 2, 6, 7]\n",
    "assert list_gen(4) == [0, 1, 2, 3, 4]\n",
    "\n",
    "test_input = [3, 4, 1, 5]\n",
    "test_list = list_gen(4)\n",
    "assert twist(test_list, 3, 0) == [2, 1, 0, 3, 4]\n",
    "\n",
    "assert do_twists(list_gen(4), test_input)[0] == [3, 4, 2, 1, 0]\n",
    "\n",
    "first, second, *_ = do_twists(list_gen(255), INPUT)[0]\n",
    "first * second"
   ]
  },
  {
   "cell_type": "code",
   "execution_count": 143,
   "metadata": {
    "collapsed": false
   },
   "outputs": [
    {
     "data": {
      "text/plain": [
       "'d067d3f14d07e09c2e7308c3926605c4'"
      ]
     },
     "execution_count": 143,
     "metadata": {},
     "output_type": "execute_result"
    }
   ],
   "source": [
    "SUFFIX = [17, 31, 73, 47, 23]\n",
    "ASCII_INPUT = \"120,93,0,90,5,80,129,74,1,165,204,255,254,2,50,113\"\n",
    "RING_SIZE = 255\n",
    "ITERATIONS = 64\n",
    "BLOCK = 16\n",
    "\n",
    "def hex_format(c):\n",
    "    res = format(c, 'x')\n",
    "    if len(res) == 1:\n",
    "        return \"0\" + res\n",
    "    return res\n",
    "\n",
    "def knot_hash(s):\n",
    "    lengths = [ord(c) for c in s] + SUFFIX\n",
    "    pos = 0\n",
    "    skip_size = 0\n",
    "    sparse_hash = list_gen(RING_SIZE)\n",
    "    for i in range(0, ITERATIONS):\n",
    "        sparse_hash, pos, skip_size = do_twists(sparse_hash, lengths, pos, skip_size)\n",
    "    \n",
    "    dense_hash = []\n",
    "    chunks = [sparse_hash[i:i + BLOCK] for i in range(0, len(sparse_hash), BLOCK)]\n",
    "    for chunk in chunks:\n",
    "        res = 0\n",
    "        for el in chunk:\n",
    "            res = res ^ el\n",
    "        dense_hash.append(hex_format(res))\n",
    "    \n",
    "    return \"\".join(dense_hash)\n",
    "\n",
    "assert knot_hash(\"\") == \"a2582a3a0e66e6e86e3812dcb672a272\"\n",
    "assert knot_hash(\"AoC 2017\") == \"33efeb34ea91902bb2f59c9920caa6cd\"\n",
    "\n",
    "knot_hash(ASCII_INPUT)"
   ]
  },
  {
   "cell_type": "code",
   "execution_count": null,
   "metadata": {
    "collapsed": false
   },
   "outputs": [],
   "source": []
  }
 ],
 "metadata": {
  "kernelspec": {
   "display_name": "Python 3",
   "language": "python",
   "name": "python3"
  },
  "language_info": {
   "codemirror_mode": {
    "name": "ipython",
    "version": 3
   },
   "file_extension": ".py",
   "mimetype": "text/x-python",
   "name": "python",
   "nbconvert_exporter": "python",
   "pygments_lexer": "ipython3",
   "version": "3.5.1"
  }
 },
 "nbformat": 4,
 "nbformat_minor": 2
}
